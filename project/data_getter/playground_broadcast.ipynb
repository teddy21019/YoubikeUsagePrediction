{
 "cells": [
  {
   "cell_type": "code",
   "execution_count": 1,
   "metadata": {},
   "outputs": [],
   "source": [
    "import numpy as np"
   ]
  },
  {
   "cell_type": "code",
   "execution_count": 2,
   "metadata": {},
   "outputs": [],
   "source": [
    "bus_coors = np.array([\n",
    "    [121, 30],\n",
    "    [120, 31],\n",
    "    [123, 29],\n",
    "    [121.5, 30]\n",
    "])"
   ]
  },
  {
   "cell_type": "code",
   "execution_count": 3,
   "metadata": {},
   "outputs": [
    {
     "data": {
      "text/plain": [
       "(4, 2)"
      ]
     },
     "execution_count": 3,
     "metadata": {},
     "output_type": "execute_result"
    }
   ],
   "source": [
    "bus_coors.shape"
   ]
  },
  {
   "cell_type": "code",
   "execution_count": 37,
   "metadata": {},
   "outputs": [
    {
     "data": {
      "text/plain": [
       "array([[1],\n",
       "       [2]])"
      ]
     },
     "execution_count": 37,
     "metadata": {},
     "output_type": "execute_result"
    }
   ],
   "source": [
    "\n",
    "np.stack([1,2], axis=-1)[:, None]"
   ]
  },
  {
   "cell_type": "code",
   "execution_count": 20,
   "metadata": {},
   "outputs": [
    {
     "data": {
      "text/plain": [
       "array([[1, 4],\n",
       "       [2, 5],\n",
       "       [3, 6]])"
      ]
     },
     "execution_count": 20,
     "metadata": {},
     "output_type": "execute_result"
    }
   ],
   "source": [
    "# float, float -> (1,1,2)\n",
    "# array, array -> (N,1,2)\n",
    "\n",
    "np.stack([np.array([1,2,3]),np.array([4,5,6])], axis=-1)"
   ]
  },
  {
   "cell_type": "code",
   "execution_count": 27,
   "metadata": {},
   "outputs": [],
   "source": [
    "yb_coors = np.array([\n",
    "    [110, 20],\n",
    "    [110, 21],\n",
    "    [113, 19]\n",
    "    ])"
   ]
  },
  {
   "cell_type": "code",
   "execution_count": 6,
   "metadata": {},
   "outputs": [
    {
     "data": {
      "text/plain": [
       "(3, 2)"
      ]
     },
     "execution_count": 6,
     "metadata": {},
     "output_type": "execute_result"
    }
   ],
   "source": [
    "yb_coors.shape"
   ]
  },
  {
   "cell_type": "code",
   "execution_count": 33,
   "metadata": {},
   "outputs": [],
   "source": [
    "yb_coors = np.stack([100, 30], axis= -1)"
   ]
  },
  {
   "cell_type": "code",
   "execution_count": 34,
   "metadata": {},
   "outputs": [
    {
     "data": {
      "text/plain": [
       "(2, 1)"
      ]
     },
     "execution_count": 34,
     "metadata": {},
     "output_type": "execute_result"
    }
   ],
   "source": [
    "yb_coors[:,np.newaxis].shape"
   ]
  },
  {
   "cell_type": "code",
   "execution_count": 54,
   "metadata": {},
   "outputs": [
    {
     "data": {
      "text/plain": [
       "array([[[21. , 10. ]],\n",
       "\n",
       "       [[20. , 11. ]],\n",
       "\n",
       "       [[23. ,  9. ]],\n",
       "\n",
       "       [[21.5, 10. ]]])"
      ]
     },
     "execution_count": 54,
     "metadata": {},
     "output_type": "execute_result"
    }
   ],
   "source": [
    "ab = (bus_coors[:,np.newaxis,:] - np.array([100,20]))\n",
    "ab\n",
    "\n",
    "# (1,4,2) -\n",
    "# (3,1,2)\n",
    "\n",
    "## if scalar\n",
    "# (1,4,2) -\n",
    "# (, , 2)\n",
    "# 1,4,2"
   ]
  },
  {
   "cell_type": "code",
   "execution_count": 39,
   "metadata": {},
   "outputs": [
    {
     "data": {
      "text/plain": [
       "(1, 4, 2)"
      ]
     },
     "execution_count": 39,
     "metadata": {},
     "output_type": "execute_result"
    }
   ],
   "source": [
    "ab.shape"
   ]
  },
  {
   "cell_type": "code",
   "execution_count": 42,
   "metadata": {},
   "outputs": [
    {
     "data": {
      "text/plain": [
       "array([[23.2594067 , 22.82542442, 24.69817807, 23.7118114 ]])"
      ]
     },
     "execution_count": 42,
     "metadata": {},
     "output_type": "execute_result"
    }
   ],
   "source": [
    "np.linalg.norm(ab, axis=2)"
   ]
  },
  {
   "cell_type": "code",
   "execution_count": 43,
   "metadata": {},
   "outputs": [],
   "source": [
    "def some_fn(x, y):\n",
    "    a = np.stack([x, y], axis=-1)\n",
    "    a_shape = (1, 1, 2) if np.isscalar(x) and np.isscalar(y) else (-1, 1, 2)\n",
    "    a = a.reshape(a_shape)\n",
    "    return a"
   ]
  },
  {
   "cell_type": "code",
   "execution_count": 47,
   "metadata": {},
   "outputs": [
    {
     "data": {
      "text/plain": [
       "(4, 1, 2)"
      ]
     },
     "execution_count": 47,
     "metadata": {},
     "output_type": "execute_result"
    }
   ],
   "source": [
    "some_fn(np.array([1,2,3,4]), np.array([100,200,300,400])).shape"
   ]
  },
  {
   "cell_type": "code",
   "execution_count": 48,
   "metadata": {},
   "outputs": [
    {
     "data": {
      "text/plain": [
       "array([  1, 100])"
      ]
     },
     "execution_count": 48,
     "metadata": {},
     "output_type": "execute_result"
    }
   ],
   "source": [
    "np.stack([1,100], axis=-1)"
   ]
  },
  {
   "cell_type": "code",
   "execution_count": 52,
   "metadata": {},
   "outputs": [
    {
     "data": {
      "text/plain": [
       "(2,)"
      ]
     },
     "execution_count": 52,
     "metadata": {},
     "output_type": "execute_result"
    }
   ],
   "source": [
    "np.stack([1,100], axis=-1).shape"
   ]
  },
  {
   "cell_type": "code",
   "execution_count": 51,
   "metadata": {},
   "outputs": [
    {
     "data": {
      "text/plain": [
       "array([[  1, 100],\n",
       "       [  2, 200],\n",
       "       [  3, 300],\n",
       "       [  4, 400]])"
      ]
     },
     "execution_count": 51,
     "metadata": {},
     "output_type": "execute_result"
    }
   ],
   "source": [
    "np.stack([np.array([1,2,3,4]), np.array([100,200,300,400])], axis=-1)"
   ]
  },
  {
   "cell_type": "code",
   "execution_count": 53,
   "metadata": {},
   "outputs": [
    {
     "data": {
      "text/plain": [
       "(4, 2)"
      ]
     },
     "execution_count": 53,
     "metadata": {},
     "output_type": "execute_result"
    }
   ],
   "source": [
    "np.stack([np.array([1,2,3,4]), np.array([100,200,300,400])], axis=-1).shape"
   ]
  },
  {
   "cell_type": "code",
   "execution_count": 55,
   "metadata": {},
   "outputs": [
    {
     "data": {
      "text/plain": [
       "array([[[21. , 10. ]],\n",
       "\n",
       "       [[20. , 11. ]],\n",
       "\n",
       "       [[23. ,  9. ]],\n",
       "\n",
       "       [[21.5, 10. ]]])"
      ]
     },
     "execution_count": 55,
     "metadata": {},
     "output_type": "execute_result"
    }
   ],
   "source": [
    "(bus_coors[:,np.newaxis,:] - np.array([100,20]))"
   ]
  },
  {
   "cell_type": "code",
   "execution_count": 56,
   "metadata": {},
   "outputs": [
    {
     "data": {
      "text/plain": [
       "array([[[ 120. ,  -70. ],\n",
       "        [ 119. , -170. ],\n",
       "        [ 118. , -270. ],\n",
       "        [ 117. , -370. ]],\n",
       "\n",
       "       [[ 119. ,  -69. ],\n",
       "        [ 118. , -169. ],\n",
       "        [ 117. , -269. ],\n",
       "        [ 116. , -369. ]],\n",
       "\n",
       "       [[ 122. ,  -71. ],\n",
       "        [ 121. , -171. ],\n",
       "        [ 120. , -271. ],\n",
       "        [ 119. , -371. ]],\n",
       "\n",
       "       [[ 120.5,  -70. ],\n",
       "        [ 119.5, -170. ],\n",
       "        [ 118.5, -270. ],\n",
       "        [ 117.5, -370. ]]])"
      ]
     },
     "execution_count": 56,
     "metadata": {},
     "output_type": "execute_result"
    }
   ],
   "source": [
    "(bus_coors[:,np.newaxis,:] - np.stack([np.array([1,2,3,4]), np.array([100,200,300,400])], axis=-1))"
   ]
  },
  {
   "cell_type": "code",
   "execution_count": 57,
   "metadata": {},
   "outputs": [],
   "source": [
    "def bcast(x,y):\n",
    "    \"\"\" Shape: (Bus coors, YB coords, coord)\"\"\"\n",
    "    return bus_coors[:,None,:] - np.stack([x,y], axis=-1)"
   ]
  },
  {
   "cell_type": "code",
   "execution_count": 58,
   "metadata": {},
   "outputs": [
    {
     "data": {
      "text/plain": [
       "array([[121. ,  30. ],\n",
       "       [120. ,  31. ],\n",
       "       [123. ,  29. ],\n",
       "       [121.5,  30. ]])"
      ]
     },
     "execution_count": 58,
     "metadata": {},
     "output_type": "execute_result"
    }
   ],
   "source": [
    "bus_coors"
   ]
  },
  {
   "cell_type": "code",
   "execution_count": 85,
   "metadata": {},
   "outputs": [
    {
     "data": {
      "text/plain": [
       "array([[False, False, False],\n",
       "       [False, False, False],\n",
       "       [ True,  True,  True],\n",
       "       [False, False, False]])"
      ]
     },
     "execution_count": 85,
     "metadata": {},
     "output_type": "execute_result"
    }
   ],
   "source": [
    "complex_4_3 = np.linalg.norm(\n",
    "    bcast([120,120,120], [30,30,30])\n",
    "    ,axis=-1\n",
    ") > 1.5\n",
    "complex_4_3"
   ]
  },
  {
   "cell_type": "code",
   "execution_count": 83,
   "metadata": {},
   "outputs": [
    {
     "data": {
      "text/plain": [
       "array([[ True],\n",
       "       [ True],\n",
       "       [ True],\n",
       "       [ True]])"
      ]
     },
     "execution_count": 83,
     "metadata": {},
     "output_type": "execute_result"
    }
   ],
   "source": [
    "np.linalg.norm(\n",
    "    bcast(100,30),\n",
    "    axis=-1\n",
    ") >1.5"
   ]
  },
  {
   "cell_type": "code",
   "execution_count": 84,
   "metadata": {},
   "outputs": [],
   "source": [
    "quant = np.array([1,2,3,4])"
   ]
  },
  {
   "cell_type": "code",
   "execution_count": 90,
   "metadata": {},
   "outputs": [
    {
     "data": {
      "text/plain": [
       "array([3, 3, 3])"
      ]
     },
     "execution_count": 90,
     "metadata": {},
     "output_type": "execute_result"
    }
   ],
   "source": [
    "np.sum(quant * complex_4_3.T, axis=-1)"
   ]
  },
  {
   "cell_type": "code",
   "execution_count": 8,
   "metadata": {},
   "outputs": [],
   "source": [
    "import numpy as np\n",
    "T=10\n",
    "N=5\n",
    "\n",
    "fake_outcome = np.random.randint(0,10,(N,T,2))\n",
    "connection = np.array([\n",
    "    [0,1,1,0,0],\n",
    "    [1,0,0,1,1],\n",
    "    [1,0,0,0,0],\n",
    "    [0,1,0,0,1],\n",
    "    [0,1,0,1,0]\n",
    "])"
   ]
  },
  {
   "cell_type": "code",
   "execution_count": 12,
   "metadata": {},
   "outputs": [
    {
     "data": {
      "text/plain": [
       "array([8, 9])"
      ]
     },
     "execution_count": 12,
     "metadata": {},
     "output_type": "execute_result"
    }
   ],
   "source": [
    "fake_outcome[2,1,:]"
   ]
  },
  {
   "cell_type": "code",
   "execution_count": 21,
   "metadata": {},
   "outputs": [],
   "source": [
    "es = np.einsum(\"ij, jtl -> itl\", connection, fake_outcome)"
   ]
  },
  {
   "cell_type": "code",
   "execution_count": 16,
   "metadata": {},
   "outputs": [
    {
     "data": {
      "text/plain": [
       "array([[1, 8],\n",
       "       [5, 0],\n",
       "       [8, 1],\n",
       "       [0, 4],\n",
       "       [7, 5]])"
      ]
     },
     "execution_count": 16,
     "metadata": {},
     "output_type": "execute_result"
    }
   ],
   "source": [
    "fake_outcome[:,0,:]"
   ]
  },
  {
   "cell_type": "code",
   "execution_count": 22,
   "metadata": {},
   "outputs": [
    {
     "data": {
      "text/plain": [
       "array([[13,  1],\n",
       "       [ 8, 17],\n",
       "       [ 1,  8],\n",
       "       [12,  5],\n",
       "       [ 5,  4]])"
      ]
     },
     "execution_count": 22,
     "metadata": {},
     "output_type": "execute_result"
    }
   ],
   "source": [
    "es[:,0,:]"
   ]
  },
  {
   "cell_type": "code",
   "execution_count": 24,
   "metadata": {},
   "outputs": [
    {
     "data": {
      "text/plain": [
       "array([[[1, 8],\n",
       "        [7, 7],\n",
       "        [9, 8],\n",
       "        [1, 9],\n",
       "        [8, 9],\n",
       "        [5, 0],\n",
       "        [0, 7],\n",
       "        [7, 9],\n",
       "        [8, 3],\n",
       "        [5, 1]],\n",
       "\n",
       "       [[5, 0],\n",
       "        [4, 9],\n",
       "        [4, 0],\n",
       "        [9, 8],\n",
       "        [0, 6],\n",
       "        [8, 4],\n",
       "        [9, 9],\n",
       "        [6, 0],\n",
       "        [9, 7],\n",
       "        [6, 3]],\n",
       "\n",
       "       [[8, 1],\n",
       "        [8, 9],\n",
       "        [1, 7],\n",
       "        [2, 7],\n",
       "        [9, 6],\n",
       "        [5, 8],\n",
       "        [0, 0],\n",
       "        [4, 2],\n",
       "        [1, 0],\n",
       "        [2, 6]],\n",
       "\n",
       "       [[0, 4],\n",
       "        [9, 0],\n",
       "        [3, 0],\n",
       "        [9, 3],\n",
       "        [4, 4],\n",
       "        [7, 7],\n",
       "        [8, 5],\n",
       "        [1, 6],\n",
       "        [7, 5],\n",
       "        [4, 4]],\n",
       "\n",
       "       [[7, 5],\n",
       "        [8, 3],\n",
       "        [5, 3],\n",
       "        [4, 2],\n",
       "        [1, 6],\n",
       "        [2, 0],\n",
       "        [7, 7],\n",
       "        [4, 9],\n",
       "        [2, 5],\n",
       "        [6, 3]]])"
      ]
     },
     "execution_count": 24,
     "metadata": {},
     "output_type": "execute_result"
    }
   ],
   "source": [
    "fake_outcome.reshape((-1,2)).reshape(N,T,2)"
   ]
  }
 ],
 "metadata": {
  "kernelspec": {
   "display_name": "Python 3",
   "language": "python",
   "name": "python3"
  },
  "language_info": {
   "codemirror_mode": {
    "name": "ipython",
    "version": 3
   },
   "file_extension": ".py",
   "mimetype": "text/x-python",
   "name": "python",
   "nbconvert_exporter": "python",
   "pygments_lexer": "ipython3",
   "version": "3.11.1"
  },
  "orig_nbformat": 4
 },
 "nbformat": 4,
 "nbformat_minor": 2
}
