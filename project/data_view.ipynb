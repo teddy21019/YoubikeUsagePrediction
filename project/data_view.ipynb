{
 "cells": [
  {
   "cell_type": "markdown",
   "metadata": {},
   "source": [
    "# Youbike 使用量預測\n",
    "\n",
    "## 研究背景\n",
    "\n",
    "Youbike（Ubike）是台北市的一個共享單車系統，為市民提供便捷的短程交通解決方案。本專案的主要目標是透過資料科學方法，評估未安裝Youbike站點的潛在使用量，以提供城市規劃者更有依據的站點選擇。透過分析 Youbike 2.0 的借車/還車流量，結合站點附近的地理區位和時空資料，我們將建立一個預測模型，探討站點安裝後可能的使用趨勢。\n",
    "\n",
    "> #### 為何選擇 Youbike 2.0? \n",
    "> 目前全台北市已全面改為 Youbike 2.0。因為停車柱樁無需串接電源以及網路， 2.0 的設點可以更為便利。以下探討之流量，皆為 Youbike 2.0 的數據。\n",
    "\n",
    "## 專案目的\n",
    "\n",
    "1. **評估未安裝 Youbike 站點的潛在使用量：** 透過歷史借車/還車流量數據，我們將探索哪些區域可能受益於新增Youbike站點，以提高共享單車的使用率。\n",
    "\n",
    "2. **探討地理區位的影響：** 分析站點附近的地理區位資訊，例如是否靠近捷運站、是否有便利超商、是否在學校附近等，以瞭解這些因素對使用量的影響。\n",
    "\n",
    "3. **整合時空資料進行預測：** 考慮時空因素，例如天氣和時間，以建立更準確的預測模型，預測未來 Youbike 使用量的變化。\n",
    "\n",
    "## 專案方法\n",
    "\n",
    "1. **資料收集：** 收集自 2020 年至 2023 年的 Youbike 借車/還車流量數據，包括每個站點的小時單位細節。\n",
    "\n",
    "2. **地理區位分析：** 分析每個站點周邊地理區位，包括捷運站、便利超商、學校等，並建立相應的特徵。\n",
    "\n",
    "3. **時空資料整合：** 整合時空資料，包括每個站點在不同時刻的天氣狀況，以及其他可能影響使用量的時間相關因素。\n",
    "\n",
    "4. **機器學習模型訓練：** 使用機器學習算法，利用歷史資料訓練預測模型，並評估模型的效能。"
   ]
  },
  {
   "cell_type": "markdown",
   "metadata": {},
   "source": [
    "# 資料概覽\n",
    "\n",
    "以下簡單介紹資料來源以及型態。特徵工程的細節演算法，請參照`transformation/features.py/VillageFeature`"
   ]
  },
  {
   "cell_type": "code",
   "execution_count": 13,
   "metadata": {},
   "outputs": [],
   "source": [
    "import pandas as pd\n",
    "import plotly.express as px\n",
    "import warnings\n",
    "\n",
    "warnings.filterwarnings('ignore')"
   ]
  },
  {
   "cell_type": "markdown",
   "metadata": {},
   "source": [
    "## YB 相關 -- 流量\n",
    "\n",
    "從政府開訪資料網站取得之臺北市公共自行車 2.0 租借紀錄，經過小時加總後得到每一個 Youbike 站點在該小時的借出與還車數量"
   ]
  },
  {
   "cell_type": "code",
   "execution_count": 14,
   "metadata": {},
   "outputs": [
    {
     "data": {
      "text/html": [
       "<div>\n",
       "<style scoped>\n",
       "    .dataframe tbody tr th:only-of-type {\n",
       "        vertical-align: middle;\n",
       "    }\n",
       "\n",
       "    .dataframe tbody tr th {\n",
       "        vertical-align: top;\n",
       "    }\n",
       "\n",
       "    .dataframe thead th {\n",
       "        text-align: right;\n",
       "    }\n",
       "</style>\n",
       "<table border=\"1\" class=\"dataframe\">\n",
       "  <thead>\n",
       "    <tr style=\"text-align: right;\">\n",
       "      <th></th>\n",
       "      <th>name</th>\n",
       "      <th>time</th>\n",
       "      <th>count_out</th>\n",
       "      <th>count_in</th>\n",
       "    </tr>\n",
       "  </thead>\n",
       "  <tbody>\n",
       "    <tr>\n",
       "      <th>9829224</th>\n",
       "      <td>實踐國中</td>\n",
       "      <td>2021-09-21 00:00:00</td>\n",
       "      <td>0</td>\n",
       "      <td>0</td>\n",
       "    </tr>\n",
       "    <tr>\n",
       "      <th>14323423</th>\n",
       "      <td>新生長春路口</td>\n",
       "      <td>2022-06-28 13:00:00</td>\n",
       "      <td>2</td>\n",
       "      <td>4</td>\n",
       "    </tr>\n",
       "    <tr>\n",
       "      <th>16166367</th>\n",
       "      <td>中429公園</td>\n",
       "      <td>2020-05-23 21:00:00</td>\n",
       "      <td>0</td>\n",
       "      <td>0</td>\n",
       "    </tr>\n",
       "    <tr>\n",
       "      <th>23521583</th>\n",
       "      <td>捷運松山站(4號出口)</td>\n",
       "      <td>2021-10-10 14:00:00</td>\n",
       "      <td>11</td>\n",
       "      <td>13</td>\n",
       "    </tr>\n",
       "    <tr>\n",
       "      <th>734688</th>\n",
       "      <td>臺大男七舍前</td>\n",
       "      <td>2022-08-16 03:00:00</td>\n",
       "      <td>0</td>\n",
       "      <td>0</td>\n",
       "    </tr>\n",
       "    <tr>\n",
       "      <th>9174765</th>\n",
       "      <td>景美醫院</td>\n",
       "      <td>2022-09-08 21:00:00</td>\n",
       "      <td>7</td>\n",
       "      <td>2</td>\n",
       "    </tr>\n",
       "    <tr>\n",
       "      <th>7468503</th>\n",
       "      <td>延平北路八段133巷口</td>\n",
       "      <td>2022-12-02 18:00:00</td>\n",
       "      <td>1</td>\n",
       "      <td>1</td>\n",
       "    </tr>\n",
       "    <tr>\n",
       "      <th>19557759</th>\n",
       "      <td>下灣公園(成功路)</td>\n",
       "      <td>2020-06-05 00:00:00</td>\n",
       "      <td>0</td>\n",
       "      <td>0</td>\n",
       "    </tr>\n",
       "    <tr>\n",
       "      <th>2848678</th>\n",
       "      <td>仁愛醫院</td>\n",
       "      <td>2022-05-13 22:00:00</td>\n",
       "      <td>1</td>\n",
       "      <td>1</td>\n",
       "    </tr>\n",
       "    <tr>\n",
       "      <th>25230490</th>\n",
       "      <td>八德路四段652巷口</td>\n",
       "      <td>2021-11-04 22:00:00</td>\n",
       "      <td>0</td>\n",
       "      <td>0</td>\n",
       "    </tr>\n",
       "  </tbody>\n",
       "</table>\n",
       "</div>"
      ],
      "text/plain": [
       "                 name                 time  count_out  count_in\n",
       "9829224          實踐國中  2021-09-21 00:00:00          0         0\n",
       "14323423       新生長春路口  2022-06-28 13:00:00          2         4\n",
       "16166367       中429公園  2020-05-23 21:00:00          0         0\n",
       "23521583  捷運松山站(4號出口)  2021-10-10 14:00:00         11        13\n",
       "734688         臺大男七舍前  2022-08-16 03:00:00          0         0\n",
       "9174765          景美醫院  2022-09-08 21:00:00          7         2\n",
       "7468503   延平北路八段133巷口  2022-12-02 18:00:00          1         1\n",
       "19557759    下灣公園(成功路)  2020-06-05 00:00:00          0         0\n",
       "2848678          仁愛醫院  2022-05-13 22:00:00          1         1\n",
       "25230490   八德路四段652巷口  2021-11-04 22:00:00          0         0"
      ]
     },
     "execution_count": 14,
     "metadata": {},
     "output_type": "execute_result"
    }
   ],
   "source": [
    "yb_flow = pd.read_parquet(\"DATA/Youbike/youbike_flow_data_network.pq\", engine='pyarrow').convert_dtypes(dtype_backend=\"pyarrow\")[['name','time', 'count_out', 'count_in']]\n",
    "yb_flow.sample(n=10)"
   ]
  },
  {
   "cell_type": "markdown",
   "metadata": {},
   "source": [
    "## YB 相關 -- 資訊\n",
    "\n",
    "Youbike 站點資訊包含經緯度座標、總站點數量、以及地址等資訊，可以從即時 youbike2.0 的 API 中取得。經轉換後資料如下："
   ]
  },
  {
   "cell_type": "code",
   "execution_count": 15,
   "metadata": {},
   "outputs": [
    {
     "data": {
      "text/html": [
       "<div>\n",
       "<style scoped>\n",
       "    .dataframe tbody tr th:only-of-type {\n",
       "        vertical-align: middle;\n",
       "    }\n",
       "\n",
       "    .dataframe tbody tr th {\n",
       "        vertical-align: top;\n",
       "    }\n",
       "\n",
       "    .dataframe thead th {\n",
       "        text-align: right;\n",
       "    }\n",
       "</style>\n",
       "<table border=\"1\" class=\"dataframe\">\n",
       "  <thead>\n",
       "    <tr style=\"text-align: right;\">\n",
       "      <th></th>\n",
       "      <th>name</th>\n",
       "      <th>total</th>\n",
       "      <th>lat</th>\n",
       "      <th>lng</th>\n",
       "      <th>address</th>\n",
       "    </tr>\n",
       "  </thead>\n",
       "  <tbody>\n",
       "    <tr>\n",
       "      <th>519</th>\n",
       "      <td>林森北平路口</td>\n",
       "      <td>20</td>\n",
       "      <td>25.04659</td>\n",
       "      <td>121.52377</td>\n",
       "      <td>林森北路與北平東路口西北側</td>\n",
       "    </tr>\n",
       "    <tr>\n",
       "      <th>536</th>\n",
       "      <td>重慶南詔安街口</td>\n",
       "      <td>15</td>\n",
       "      <td>25.02507</td>\n",
       "      <td>121.51645</td>\n",
       "      <td>重慶南路三段/詔安街</td>\n",
       "    </tr>\n",
       "    <tr>\n",
       "      <th>202</th>\n",
       "      <td>國順公園</td>\n",
       "      <td>20</td>\n",
       "      <td>25.06594</td>\n",
       "      <td>121.51078</td>\n",
       "      <td>昌吉街117號前</td>\n",
       "    </tr>\n",
       "    <tr>\n",
       "      <th>1097</th>\n",
       "      <td>臺北醫學大學</td>\n",
       "      <td>55</td>\n",
       "      <td>25.02668</td>\n",
       "      <td>121.56175</td>\n",
       "      <td>台北醫學大學(吳興街220巷59弄)</td>\n",
       "    </tr>\n",
       "    <tr>\n",
       "      <th>222</th>\n",
       "      <td>樹德公園_1</td>\n",
       "      <td>21</td>\n",
       "      <td>25.06669</td>\n",
       "      <td>121.51615</td>\n",
       "      <td>大龍街/大龍街85巷(東北側)</td>\n",
       "    </tr>\n",
       "    <tr>\n",
       "      <th>89</th>\n",
       "      <td>捷運大安森林公園站(2號出口)</td>\n",
       "      <td>62</td>\n",
       "      <td>25.03332</td>\n",
       "      <td>121.53435</td>\n",
       "      <td>捷運大安森林公園站(2號出口)西側</td>\n",
       "    </tr>\n",
       "    <tr>\n",
       "      <th>886</th>\n",
       "      <td>承德石牌路口</td>\n",
       "      <td>17</td>\n",
       "      <td>25.11272</td>\n",
       "      <td>121.50922</td>\n",
       "      <td>承德路七段與石牌路一段口北側</td>\n",
       "    </tr>\n",
       "    <tr>\n",
       "      <th>514</th>\n",
       "      <td>杭州南路一段101巷口</td>\n",
       "      <td>14</td>\n",
       "      <td>25.03746</td>\n",
       "      <td>121.52799</td>\n",
       "      <td>金山南路一段72號前</td>\n",
       "    </tr>\n",
       "    <tr>\n",
       "      <th>28</th>\n",
       "      <td>臺大男七舍前</td>\n",
       "      <td>20</td>\n",
       "      <td>25.01537</td>\n",
       "      <td>121.54698</td>\n",
       "      <td>長興街/長興街80巷口西側</td>\n",
       "    </tr>\n",
       "    <tr>\n",
       "      <th>745</th>\n",
       "      <td>安泰街83巷</td>\n",
       "      <td>20</td>\n",
       "      <td>25.07669</td>\n",
       "      <td>121.61709</td>\n",
       "      <td>安泰街83巷3號(對面)</td>\n",
       "    </tr>\n",
       "  </tbody>\n",
       "</table>\n",
       "</div>"
      ],
      "text/plain": [
       "                 name  total       lat        lng             address\n",
       "519            林森北平路口     20  25.04659  121.52377       林森北路與北平東路口西北側\n",
       "536           重慶南詔安街口     15  25.02507  121.51645          重慶南路三段/詔安街\n",
       "202              國順公園     20  25.06594  121.51078            昌吉街117號前\n",
       "1097           臺北醫學大學     55  25.02668  121.56175  台北醫學大學(吳興街220巷59弄)\n",
       "222            樹德公園_1     21  25.06669  121.51615     大龍街/大龍街85巷(東北側)\n",
       "89    捷運大安森林公園站(2號出口)     62  25.03332  121.53435   捷運大安森林公園站(2號出口)西側\n",
       "886            承德石牌路口     17  25.11272  121.50922      承德路七段與石牌路一段口北側\n",
       "514       杭州南路一段101巷口     14  25.03746  121.52799          金山南路一段72號前\n",
       "28             臺大男七舍前     20  25.01537  121.54698       長興街/長興街80巷口西側\n",
       "745            安泰街83巷     20  25.07669  121.61709        安泰街83巷3號(對面)"
      ]
     },
     "execution_count": 15,
     "metadata": {},
     "output_type": "execute_result"
    }
   ],
   "source": [
    "yb_info = pd.read_parquet(\"DATA/Youbike/yb_info.pq\").convert_dtypes(dtype_backend='pyarrow')\n",
    "yb_info.sample(n=10)"
   ]
  },
  {
   "cell_type": "markdown",
   "metadata": {},
   "source": [
    "## 人口學變量 -- 各里各年齡層比例 + 收入分佈\n",
    "\n",
    "人口結構可能會影響使用 Youbike 的情形。壯年為主的區域使用率應該可以預期較老年為主之區域有較高的使用量，但中高齡中使用 Youbike 進行運動之情形也有可能。由於不清楚實際使用情況，我們將年齡分佈區分為幾個主要區段，分別捕捉青少年、大學生、上班族、壯年、老年、高齡，藉由機器學習的方式判斷規則。\n",
    "\n",
    "另外，除了人口結構，收入分佈或許也是影響因子之一。高所得之區域自用車上下班情況或許高過低所得區域，而高所得區域同時作為辦公區的機率也較高，因此可預期還車量將高於借車輛。這些因素尚與一地區的繁華程度交互影響，因此也將藉由機器學習的方式處理。"
   ]
  },
  {
   "cell_type": "code",
   "execution_count": 16,
   "metadata": {},
   "outputs": [],
   "source": [
    "demographic = pd.read_parquet(\"DATA/Demographic/demographic.pq\")\n",
    "demographic.drop(columns=[\"行政區\", \"綜合所得總額\"], inplace=True)"
   ]
  },
  {
   "cell_type": "code",
   "execution_count": 17,
   "metadata": {},
   "outputs": [
    {
     "data": {
      "text/html": [
       "<div>\n",
       "<style scoped>\n",
       "    .dataframe tbody tr th:only-of-type {\n",
       "        vertical-align: middle;\n",
       "    }\n",
       "\n",
       "    .dataframe tbody tr th {\n",
       "        vertical-align: top;\n",
       "    }\n",
       "\n",
       "    .dataframe thead th {\n",
       "        text-align: right;\n",
       "    }\n",
       "</style>\n",
       "<table border=\"1\" class=\"dataframe\">\n",
       "  <thead>\n",
       "    <tr style=\"text-align: right;\">\n",
       "      <th></th>\n",
       "      <th>里別</th>\n",
       "      <th>總計</th>\n",
       "      <th>age_0_15</th>\n",
       "      <th>age_16_18</th>\n",
       "      <th>age_19_24</th>\n",
       "      <th>age_25_40</th>\n",
       "      <th>age_41_65</th>\n",
       "      <th>age_66_75</th>\n",
       "      <th>age_76_100</th>\n",
       "      <th>平均數</th>\n",
       "      <th>中位數</th>\n",
       "      <th>第一分位數</th>\n",
       "      <th>第三分位數</th>\n",
       "    </tr>\n",
       "  </thead>\n",
       "  <tbody>\n",
       "    <tr>\n",
       "      <th>0</th>\n",
       "      <td>莊敬里</td>\n",
       "      <td>5045.0</td>\n",
       "      <td>11.912785</td>\n",
       "      <td>2.418236</td>\n",
       "      <td>5.748266</td>\n",
       "      <td>20.118930</td>\n",
       "      <td>38.691774</td>\n",
       "      <td>13.280476</td>\n",
       "      <td>7.829534</td>\n",
       "      <td>844</td>\n",
       "      <td>543</td>\n",
       "      <td>242</td>\n",
       "      <td>1054</td>\n",
       "    </tr>\n",
       "    <tr>\n",
       "      <th>1</th>\n",
       "      <td>東榮里</td>\n",
       "      <td>7799.0</td>\n",
       "      <td>17.348378</td>\n",
       "      <td>2.295166</td>\n",
       "      <td>5.064752</td>\n",
       "      <td>17.027824</td>\n",
       "      <td>36.145660</td>\n",
       "      <td>13.437620</td>\n",
       "      <td>8.680600</td>\n",
       "      <td>1512</td>\n",
       "      <td>723</td>\n",
       "      <td>287</td>\n",
       "      <td>1758</td>\n",
       "    </tr>\n",
       "    <tr>\n",
       "      <th>2</th>\n",
       "      <td>三民里</td>\n",
       "      <td>6380.0</td>\n",
       "      <td>12.351097</td>\n",
       "      <td>2.147335</td>\n",
       "      <td>5.564263</td>\n",
       "      <td>17.789969</td>\n",
       "      <td>38.605016</td>\n",
       "      <td>13.620690</td>\n",
       "      <td>9.921630</td>\n",
       "      <td>1115</td>\n",
       "      <td>625</td>\n",
       "      <td>260</td>\n",
       "      <td>1320</td>\n",
       "    </tr>\n",
       "    <tr>\n",
       "      <th>3</th>\n",
       "      <td>新益里</td>\n",
       "      <td>4326.0</td>\n",
       "      <td>11.534905</td>\n",
       "      <td>2.265372</td>\n",
       "      <td>4.808137</td>\n",
       "      <td>20.850670</td>\n",
       "      <td>37.586685</td>\n",
       "      <td>14.193250</td>\n",
       "      <td>8.760980</td>\n",
       "      <td>919</td>\n",
       "      <td>538</td>\n",
       "      <td>231</td>\n",
       "      <td>1181</td>\n",
       "    </tr>\n",
       "    <tr>\n",
       "      <th>4</th>\n",
       "      <td>富錦里</td>\n",
       "      <td>4942.0</td>\n",
       "      <td>14.225010</td>\n",
       "      <td>2.185350</td>\n",
       "      <td>4.917038</td>\n",
       "      <td>19.607446</td>\n",
       "      <td>36.806961</td>\n",
       "      <td>14.467827</td>\n",
       "      <td>7.790368</td>\n",
       "      <td>1118</td>\n",
       "      <td>580</td>\n",
       "      <td>262</td>\n",
       "      <td>1346</td>\n",
       "    </tr>\n",
       "    <tr>\n",
       "      <th>...</th>\n",
       "      <td>...</td>\n",
       "      <td>...</td>\n",
       "      <td>...</td>\n",
       "      <td>...</td>\n",
       "      <td>...</td>\n",
       "      <td>...</td>\n",
       "      <td>...</td>\n",
       "      <td>...</td>\n",
       "      <td>...</td>\n",
       "      <td>...</td>\n",
       "      <td>...</td>\n",
       "      <td>...</td>\n",
       "      <td>...</td>\n",
       "    </tr>\n",
       "    <tr>\n",
       "      <th>451</th>\n",
       "      <td>關渡里</td>\n",
       "      <td>10982.0</td>\n",
       "      <td>11.946822</td>\n",
       "      <td>2.522309</td>\n",
       "      <td>5.554544</td>\n",
       "      <td>22.272810</td>\n",
       "      <td>37.606993</td>\n",
       "      <td>12.793662</td>\n",
       "      <td>7.302859</td>\n",
       "      <td>859</td>\n",
       "      <td>482</td>\n",
       "      <td>218</td>\n",
       "      <td>1007</td>\n",
       "    </tr>\n",
       "    <tr>\n",
       "      <th>452</th>\n",
       "      <td>泉源里</td>\n",
       "      <td>2267.0</td>\n",
       "      <td>7.190119</td>\n",
       "      <td>2.514336</td>\n",
       "      <td>6.793119</td>\n",
       "      <td>21.614468</td>\n",
       "      <td>40.979268</td>\n",
       "      <td>13.056903</td>\n",
       "      <td>7.851787</td>\n",
       "      <td>717</td>\n",
       "      <td>395</td>\n",
       "      <td>190</td>\n",
       "      <td>724</td>\n",
       "    </tr>\n",
       "    <tr>\n",
       "      <th>453</th>\n",
       "      <td>湖山里</td>\n",
       "      <td>1492.0</td>\n",
       "      <td>6.300268</td>\n",
       "      <td>2.077748</td>\n",
       "      <td>4.423592</td>\n",
       "      <td>19.235925</td>\n",
       "      <td>41.085791</td>\n",
       "      <td>14.946381</td>\n",
       "      <td>11.930295</td>\n",
       "      <td>967</td>\n",
       "      <td>452</td>\n",
       "      <td>216</td>\n",
       "      <td>980</td>\n",
       "    </tr>\n",
       "    <tr>\n",
       "      <th>454</th>\n",
       "      <td>大屯里</td>\n",
       "      <td>1232.0</td>\n",
       "      <td>11.444805</td>\n",
       "      <td>1.948052</td>\n",
       "      <td>6.250000</td>\n",
       "      <td>20.535714</td>\n",
       "      <td>37.662338</td>\n",
       "      <td>12.662338</td>\n",
       "      <td>9.496753</td>\n",
       "      <td>887</td>\n",
       "      <td>457</td>\n",
       "      <td>237</td>\n",
       "      <td>997</td>\n",
       "    </tr>\n",
       "    <tr>\n",
       "      <th>455</th>\n",
       "      <td>湖田里</td>\n",
       "      <td>871.0</td>\n",
       "      <td>6.888634</td>\n",
       "      <td>1.377727</td>\n",
       "      <td>6.199770</td>\n",
       "      <td>20.321470</td>\n",
       "      <td>41.561424</td>\n",
       "      <td>14.466131</td>\n",
       "      <td>9.184845</td>\n",
       "      <td>869</td>\n",
       "      <td>406</td>\n",
       "      <td>218</td>\n",
       "      <td>806</td>\n",
       "    </tr>\n",
       "  </tbody>\n",
       "</table>\n",
       "<p>456 rows × 13 columns</p>\n",
       "</div>"
      ],
      "text/plain": [
       "      里別       總計   age_0_15  age_16_18  age_19_24  age_25_40  age_41_65  \\\n",
       "0    莊敬里   5045.0  11.912785   2.418236   5.748266  20.118930  38.691774   \n",
       "1    東榮里   7799.0  17.348378   2.295166   5.064752  17.027824  36.145660   \n",
       "2    三民里   6380.0  12.351097   2.147335   5.564263  17.789969  38.605016   \n",
       "3    新益里   4326.0  11.534905   2.265372   4.808137  20.850670  37.586685   \n",
       "4    富錦里   4942.0  14.225010   2.185350   4.917038  19.607446  36.806961   \n",
       "..   ...      ...        ...        ...        ...        ...        ...   \n",
       "451  關渡里  10982.0  11.946822   2.522309   5.554544  22.272810  37.606993   \n",
       "452  泉源里   2267.0   7.190119   2.514336   6.793119  21.614468  40.979268   \n",
       "453  湖山里   1492.0   6.300268   2.077748   4.423592  19.235925  41.085791   \n",
       "454  大屯里   1232.0  11.444805   1.948052   6.250000  20.535714  37.662338   \n",
       "455  湖田里    871.0   6.888634   1.377727   6.199770  20.321470  41.561424   \n",
       "\n",
       "     age_66_75  age_76_100   平均數  中位數  第一分位數  第三分位數  \n",
       "0    13.280476    7.829534   844  543    242   1054  \n",
       "1    13.437620    8.680600  1512  723    287   1758  \n",
       "2    13.620690    9.921630  1115  625    260   1320  \n",
       "3    14.193250    8.760980   919  538    231   1181  \n",
       "4    14.467827    7.790368  1118  580    262   1346  \n",
       "..         ...         ...   ...  ...    ...    ...  \n",
       "451  12.793662    7.302859   859  482    218   1007  \n",
       "452  13.056903    7.851787   717  395    190    724  \n",
       "453  14.946381   11.930295   967  452    216    980  \n",
       "454  12.662338    9.496753   887  457    237    997  \n",
       "455  14.466131    9.184845   869  406    218    806  \n",
       "\n",
       "[456 rows x 13 columns]"
      ]
     },
     "execution_count": 17,
     "metadata": {},
     "output_type": "execute_result"
    }
   ],
   "source": [
    "demographic"
   ]
  },
  {
   "cell_type": "markdown",
   "metadata": {},
   "source": [
    "### 各里地理資訊\n",
    "以上為各里之人口學變量資訊，要與 Youbike 2.0 之站點連結，尚需各里之邊界座標。\n",
    "\n",
    "若一站點位於里的正中心，則該站點被分配到該里的人口學結構。然而若位於各里的邊界，甚至交界處，則判斷上會叫複雜。為簡化判斷，我們採取基於各里重心的逆距離加權法(inverse distance weighting, IDW)\n",
    "1. 里 k 的人口學變數 U 為 $U^k$\n",
    "1. 計算各里之幾何重心(centroid)\n",
    "1. 對於Youbike 站點 i，取得與各里 k 之間的距離 $d(i,k)$\n",
    "1. 對於站點 i 的人口學變數 $U_i$，其加權值則為\n",
    "$$\n",
    "U_i = \\frac{\n",
    "\\sum_{k} w_{i,k} U^k\n",
    "}{\n",
    "    \\sum_{k} w_{i,k}\n",
    "}\n",
    "$$\n",
    "\n",
    "其中 $w_{i,k} = \\frac{1}{d(i,k)}$\n",
    "\n",
    "運算細節請參考 `transformation/features.py/VillageFeature`"
   ]
  },
  {
   "cell_type": "code",
   "execution_count": 18,
   "metadata": {},
   "outputs": [
    {
     "data": {
      "text/html": [
       "<div>\n",
       "<style scoped>\n",
       "    .dataframe tbody tr th:only-of-type {\n",
       "        vertical-align: middle;\n",
       "    }\n",
       "\n",
       "    .dataframe tbody tr th {\n",
       "        vertical-align: top;\n",
       "    }\n",
       "\n",
       "    .dataframe thead th {\n",
       "        text-align: right;\n",
       "    }\n",
       "</style>\n",
       "<table border=\"1\" class=\"dataframe\">\n",
       "  <thead>\n",
       "    <tr style=\"text-align: right;\">\n",
       "      <th></th>\n",
       "      <th>VILLNAME</th>\n",
       "      <th>x</th>\n",
       "      <th>y</th>\n",
       "    </tr>\n",
       "  </thead>\n",
       "  <tbody>\n",
       "    <tr>\n",
       "      <th>0</th>\n",
       "      <td>西新里</td>\n",
       "      <td>309680.933610</td>\n",
       "      <td>2.771898e+06</td>\n",
       "    </tr>\n",
       "    <tr>\n",
       "      <th>1</th>\n",
       "      <td>重陽里</td>\n",
       "      <td>310291.290886</td>\n",
       "      <td>2.772318e+06</td>\n",
       "    </tr>\n",
       "    <tr>\n",
       "      <th>2</th>\n",
       "      <td>蘆洲里</td>\n",
       "      <td>310928.725286</td>\n",
       "      <td>2.772775e+06</td>\n",
       "    </tr>\n",
       "    <tr>\n",
       "      <th>3</th>\n",
       "      <td>石潭里</td>\n",
       "      <td>309759.045690</td>\n",
       "      <td>2.772820e+06</td>\n",
       "    </tr>\n",
       "    <tr>\n",
       "      <th>4</th>\n",
       "      <td>朱園里</td>\n",
       "      <td>303960.451833</td>\n",
       "      <td>2.771279e+06</td>\n",
       "    </tr>\n",
       "    <tr>\n",
       "      <th>...</th>\n",
       "      <td>...</td>\n",
       "      <td>...</td>\n",
       "      <td>...</td>\n",
       "    </tr>\n",
       "    <tr>\n",
       "      <th>451</th>\n",
       "      <td>泉源里</td>\n",
       "      <td>302505.110366</td>\n",
       "      <td>2.782842e+06</td>\n",
       "    </tr>\n",
       "    <tr>\n",
       "      <th>452</th>\n",
       "      <td>平等里</td>\n",
       "      <td>308390.308238</td>\n",
       "      <td>2.781948e+06</td>\n",
       "    </tr>\n",
       "    <tr>\n",
       "      <th>453</th>\n",
       "      <td>大屯里</td>\n",
       "      <td>300992.353133</td>\n",
       "      <td>2.783640e+06</td>\n",
       "    </tr>\n",
       "    <tr>\n",
       "      <th>454</th>\n",
       "      <td>菁山里</td>\n",
       "      <td>307313.564606</td>\n",
       "      <td>2.783887e+06</td>\n",
       "    </tr>\n",
       "    <tr>\n",
       "      <th>455</th>\n",
       "      <td>湖田里</td>\n",
       "      <td>305238.593401</td>\n",
       "      <td>2.785782e+06</td>\n",
       "    </tr>\n",
       "  </tbody>\n",
       "</table>\n",
       "<p>456 rows × 3 columns</p>\n",
       "</div>"
      ],
      "text/plain": [
       "    VILLNAME              x             y\n",
       "0        西新里  309680.933610  2.771898e+06\n",
       "1        重陽里  310291.290886  2.772318e+06\n",
       "2        蘆洲里  310928.725286  2.772775e+06\n",
       "3        石潭里  309759.045690  2.772820e+06\n",
       "4        朱園里  303960.451833  2.771279e+06\n",
       "..       ...            ...           ...\n",
       "451      泉源里  302505.110366  2.782842e+06\n",
       "452      平等里  308390.308238  2.781948e+06\n",
       "453      大屯里  300992.353133  2.783640e+06\n",
       "454      菁山里  307313.564606  2.783887e+06\n",
       "455      湖田里  305238.593401  2.785782e+06\n",
       "\n",
       "[456 rows x 3 columns]"
      ]
     },
     "execution_count": 18,
     "metadata": {},
     "output_type": "execute_result"
    }
   ],
   "source": [
    "li_coord = pd.read_parquet(\"DATA/Demographic/li_coords_xy.pq\")\n",
    "li_coord"
   ]
  },
  {
   "cell_type": "markdown",
   "metadata": {},
   "source": [
    "## 捷運\n",
    "\n",
    "捷運對 Youbike 使用量的影響很大。毫無疑問，在流量高的出口， Youbike 被借走或歸還的次數勢必也高。另外，因為從捷運轉 Youbike 想有前30分鐘免費的優惠，所以民眾會有誘因以 Youbike 進行短距離的銜接。\n",
    "\n",
    "最能減少誤差的模型設定方法，應該是直接判斷該 Youbike 站點附近捷運站的流量。然而本專案的目的為評估未來新設站點的效益，若過度依賴捷運站即時的流量，未來進行預測時尚須主動增加此變數之值，增加評估時的複雜度。\n",
    "\n",
    "解決方法為以附近捷運站（如果有）在該時的對數全年進站量與出站量作為加權。比方說，若該站點 d 距離內為台北車站，則該車站在晚間六點的權重則為 6.57。"
   ]
  },
  {
   "cell_type": "code",
   "execution_count": 19,
   "metadata": {},
   "outputs": [
    {
     "data": {
      "text/html": [
       "<div>\n",
       "<style scoped>\n",
       "    .dataframe tbody tr th:only-of-type {\n",
       "        vertical-align: middle;\n",
       "    }\n",
       "\n",
       "    .dataframe tbody tr th {\n",
       "        vertical-align: top;\n",
       "    }\n",
       "\n",
       "    .dataframe thead th {\n",
       "        text-align: right;\n",
       "    }\n",
       "</style>\n",
       "<table border=\"1\" class=\"dataframe\">\n",
       "  <thead>\n",
       "    <tr style=\"text-align: right;\">\n",
       "      <th></th>\n",
       "      <th>station</th>\n",
       "      <th>hour</th>\n",
       "      <th>in</th>\n",
       "      <th>out</th>\n",
       "      <th>No</th>\n",
       "      <th>lng</th>\n",
       "      <th>lat</th>\n",
       "    </tr>\n",
       "  </thead>\n",
       "  <tbody>\n",
       "    <tr>\n",
       "      <th>0</th>\n",
       "      <td>台北車站</td>\n",
       "      <td>18</td>\n",
       "      <td>6.575462</td>\n",
       "      <td>6.605948</td>\n",
       "      <td>M5</td>\n",
       "      <td>121.516246</td>\n",
       "      <td>25.046755</td>\n",
       "    </tr>\n",
       "    <tr>\n",
       "      <th>1</th>\n",
       "      <td>台北車站</td>\n",
       "      <td>18</td>\n",
       "      <td>6.575462</td>\n",
       "      <td>6.605948</td>\n",
       "      <td>M6</td>\n",
       "      <td>121.516787</td>\n",
       "      <td>25.046234</td>\n",
       "    </tr>\n",
       "    <tr>\n",
       "      <th>2</th>\n",
       "      <td>台北車站</td>\n",
       "      <td>18</td>\n",
       "      <td>6.575462</td>\n",
       "      <td>6.605948</td>\n",
       "      <td>M7</td>\n",
       "      <td>121.518643</td>\n",
       "      <td>25.046077</td>\n",
       "    </tr>\n",
       "    <tr>\n",
       "      <th>3</th>\n",
       "      <td>台北車站</td>\n",
       "      <td>18</td>\n",
       "      <td>6.575462</td>\n",
       "      <td>6.605948</td>\n",
       "      <td>M8</td>\n",
       "      <td>121.517479</td>\n",
       "      <td>25.045948</td>\n",
       "    </tr>\n",
       "    <tr>\n",
       "      <th>4</th>\n",
       "      <td>台北車站</td>\n",
       "      <td>18</td>\n",
       "      <td>6.575462</td>\n",
       "      <td>6.605948</td>\n",
       "      <td>M1</td>\n",
       "      <td>121.518193</td>\n",
       "      <td>25.048232</td>\n",
       "    </tr>\n",
       "    <tr>\n",
       "      <th>...</th>\n",
       "      <td>...</td>\n",
       "      <td>...</td>\n",
       "      <td>...</td>\n",
       "      <td>...</td>\n",
       "      <td>...</td>\n",
       "      <td>...</td>\n",
       "      <td>...</td>\n",
       "    </tr>\n",
       "    <tr>\n",
       "      <th>9067</th>\n",
       "      <td>十四張</td>\n",
       "      <td>1</td>\n",
       "      <td>1.623249</td>\n",
       "      <td>1.748188</td>\n",
       "      <td>0</td>\n",
       "      <td>121.527701</td>\n",
       "      <td>24.984467</td>\n",
       "    </tr>\n",
       "    <tr>\n",
       "      <th>9068</th>\n",
       "      <td>十四張</td>\n",
       "      <td>2</td>\n",
       "      <td>1.204120</td>\n",
       "      <td>1.612784</td>\n",
       "      <td>0</td>\n",
       "      <td>121.527701</td>\n",
       "      <td>24.984467</td>\n",
       "    </tr>\n",
       "    <tr>\n",
       "      <th>9069</th>\n",
       "      <td>十四張</td>\n",
       "      <td>5</td>\n",
       "      <td>1.000000</td>\n",
       "      <td>0.903090</td>\n",
       "      <td>0</td>\n",
       "      <td>121.527701</td>\n",
       "      <td>24.984467</td>\n",
       "    </tr>\n",
       "    <tr>\n",
       "      <th>9070</th>\n",
       "      <td>十四張</td>\n",
       "      <td>4</td>\n",
       "      <td>1.000000</td>\n",
       "      <td>0.845098</td>\n",
       "      <td>0</td>\n",
       "      <td>121.527701</td>\n",
       "      <td>24.984467</td>\n",
       "    </tr>\n",
       "    <tr>\n",
       "      <th>9071</th>\n",
       "      <td>十四張</td>\n",
       "      <td>3</td>\n",
       "      <td>0.778151</td>\n",
       "      <td>1.361728</td>\n",
       "      <td>0</td>\n",
       "      <td>121.527701</td>\n",
       "      <td>24.984467</td>\n",
       "    </tr>\n",
       "  </tbody>\n",
       "</table>\n",
       "<p>9072 rows × 7 columns</p>\n",
       "</div>"
      ],
      "text/plain": [
       "     station  hour        in       out  No         lng        lat\n",
       "0       台北車站    18  6.575462  6.605948  M5  121.516246  25.046755\n",
       "1       台北車站    18  6.575462  6.605948  M6  121.516787  25.046234\n",
       "2       台北車站    18  6.575462  6.605948  M7  121.518643  25.046077\n",
       "3       台北車站    18  6.575462  6.605948  M8  121.517479  25.045948\n",
       "4       台北車站    18  6.575462  6.605948  M1  121.518193  25.048232\n",
       "...      ...   ...       ...       ...  ..         ...        ...\n",
       "9067     十四張     1  1.623249  1.748188   0  121.527701  24.984467\n",
       "9068     十四張     2  1.204120  1.612784   0  121.527701  24.984467\n",
       "9069     十四張     5  1.000000  0.903090   0  121.527701  24.984467\n",
       "9070     十四張     4  1.000000  0.845098   0  121.527701  24.984467\n",
       "9071     十四張     3  0.778151  1.361728   0  121.527701  24.984467\n",
       "\n",
       "[9072 rows x 7 columns]"
      ]
     },
     "execution_count": 19,
     "metadata": {},
     "output_type": "execute_result"
    }
   ],
   "source": [
    "MRT = pd.read_parquet(\"DATA/MRT/MRT_coord_with_flow_weight.pq\")\n",
    "MRT"
   ]
  },
  {
   "cell_type": "markdown",
   "metadata": {},
   "source": [
    "因為與實際時間無關，僅與時段有關，未來於評估新站點效益時，可僅指定地點與一整天的時段，不必指定實際捷運站進出口流量。\n",
    "\n",
    "此變數可作為繁華程度的指標之一。"
   ]
  },
  {
   "cell_type": "markdown",
   "metadata": {},
   "source": [
    "## 公車\n",
    "\n",
    "捷運站並無法全面捕捉台北市個地理位置的繁華程度，因此我們將網絡範圍更廣的公車納入資料中。\n",
    "\n",
    "然而公車並沒有上下車流量的資料可用，因此我們使用另一種方法來捕捉公車相關的繁華程度。一般來說，交通要道上的公車站不見得會比蛋白區多，但單一公車站點所涵蓋的公車數量則會隨該地點的熱鬧程度增加。\n"
   ]
  },
  {
   "cell_type": "code",
   "execution_count": 20,
   "metadata": {},
   "outputs": [
    {
     "data": {
      "text/html": [
       "<div>\n",
       "<style scoped>\n",
       "    .dataframe tbody tr th:only-of-type {\n",
       "        vertical-align: middle;\n",
       "    }\n",
       "\n",
       "    .dataframe tbody tr th {\n",
       "        vertical-align: top;\n",
       "    }\n",
       "\n",
       "    .dataframe thead th {\n",
       "        text-align: right;\n",
       "    }\n",
       "</style>\n",
       "<table border=\"1\" class=\"dataframe\">\n",
       "  <thead>\n",
       "    <tr style=\"text-align: right;\">\n",
       "      <th></th>\n",
       "      <th>PublicId</th>\n",
       "      <th>Name</th>\n",
       "      <th>Latitude</th>\n",
       "      <th>Longitude</th>\n",
       "      <th>Bus_number</th>\n",
       "      <th>x</th>\n",
       "      <th>y</th>\n",
       "    </tr>\n",
       "  </thead>\n",
       "  <tbody>\n",
       "    <tr>\n",
       "      <th>0</th>\n",
       "      <td>1000100040</td>\n",
       "      <td>捷運中正紀念堂站(中山)</td>\n",
       "      <td>25.036430</td>\n",
       "      <td>121.516730</td>\n",
       "      <td>1</td>\n",
       "      <td>302143.790748</td>\n",
       "      <td>2.769912e+06</td>\n",
       "    </tr>\n",
       "    <tr>\n",
       "      <th>1</th>\n",
       "      <td>1000500040</td>\n",
       "      <td>重慶南路一段</td>\n",
       "      <td>25.045607</td>\n",
       "      <td>121.513187</td>\n",
       "      <td>2</td>\n",
       "      <td>301782.392692</td>\n",
       "      <td>2.770927e+06</td>\n",
       "    </tr>\n",
       "    <tr>\n",
       "      <th>2</th>\n",
       "      <td>1000500041</td>\n",
       "      <td>重慶南路一段</td>\n",
       "      <td>25.044691</td>\n",
       "      <td>121.513165</td>\n",
       "      <td>2</td>\n",
       "      <td>301780.557479</td>\n",
       "      <td>2.770826e+06</td>\n",
       "    </tr>\n",
       "    <tr>\n",
       "      <th>3</th>\n",
       "      <td>1000500042</td>\n",
       "      <td>重慶南路一段</td>\n",
       "      <td>25.044432</td>\n",
       "      <td>121.513114</td>\n",
       "      <td>2</td>\n",
       "      <td>301775.530123</td>\n",
       "      <td>2.770797e+06</td>\n",
       "    </tr>\n",
       "    <tr>\n",
       "      <th>4</th>\n",
       "      <td>1000900060</td>\n",
       "      <td>衡陽路</td>\n",
       "      <td>25.042270</td>\n",
       "      <td>121.510210</td>\n",
       "      <td>5</td>\n",
       "      <td>301483.401044</td>\n",
       "      <td>2.770557e+06</td>\n",
       "    </tr>\n",
       "    <tr>\n",
       "      <th>...</th>\n",
       "      <td>...</td>\n",
       "      <td>...</td>\n",
       "      <td>...</td>\n",
       "      <td>...</td>\n",
       "      <td>...</td>\n",
       "      <td>...</td>\n",
       "      <td>...</td>\n",
       "    </tr>\n",
       "    <tr>\n",
       "      <th>3694</th>\n",
       "      <td>2517206110</td>\n",
       "      <td>崁頂三路</td>\n",
       "      <td>25.195630</td>\n",
       "      <td>121.430072</td>\n",
       "      <td>1</td>\n",
       "      <td>293342.737269</td>\n",
       "      <td>2.787515e+06</td>\n",
       "    </tr>\n",
       "    <tr>\n",
       "      <th>3695</th>\n",
       "      <td>2517206260</td>\n",
       "      <td>輕軌淡水行政中心站</td>\n",
       "      <td>25.189169</td>\n",
       "      <td>121.443384</td>\n",
       "      <td>1</td>\n",
       "      <td>294686.697500</td>\n",
       "      <td>2.786804e+06</td>\n",
       "    </tr>\n",
       "    <tr>\n",
       "      <th>3696</th>\n",
       "      <td>2517300400</td>\n",
       "      <td>馬偕醫院</td>\n",
       "      <td>25.141655</td>\n",
       "      <td>121.459785</td>\n",
       "      <td>4</td>\n",
       "      <td>296357.683439</td>\n",
       "      <td>2.781547e+06</td>\n",
       "    </tr>\n",
       "    <tr>\n",
       "      <th>3697</th>\n",
       "      <td>2517300500</td>\n",
       "      <td>捷運竹圍站</td>\n",
       "      <td>25.136591</td>\n",
       "      <td>121.460120</td>\n",
       "      <td>4</td>\n",
       "      <td>296393.333479</td>\n",
       "      <td>2.780986e+06</td>\n",
       "    </tr>\n",
       "    <tr>\n",
       "      <th>3698</th>\n",
       "      <td>2517301100</td>\n",
       "      <td>馬偕醫院一</td>\n",
       "      <td>25.139624</td>\n",
       "      <td>121.459786</td>\n",
       "      <td>4</td>\n",
       "      <td>296358.561333</td>\n",
       "      <td>2.781322e+06</td>\n",
       "    </tr>\n",
       "  </tbody>\n",
       "</table>\n",
       "<p>3699 rows × 7 columns</p>\n",
       "</div>"
      ],
      "text/plain": [
       "        PublicId          Name   Latitude   Longitude  Bus_number  \\\n",
       "0     1000100040  捷運中正紀念堂站(中山)  25.036430  121.516730           1   \n",
       "1     1000500040        重慶南路一段  25.045607  121.513187           2   \n",
       "2     1000500041        重慶南路一段  25.044691  121.513165           2   \n",
       "3     1000500042        重慶南路一段  25.044432  121.513114           2   \n",
       "4     1000900060           衡陽路  25.042270  121.510210           5   \n",
       "...          ...           ...        ...         ...         ...   \n",
       "3694  2517206110          崁頂三路  25.195630  121.430072           1   \n",
       "3695  2517206260     輕軌淡水行政中心站  25.189169  121.443384           1   \n",
       "3696  2517300400          馬偕醫院  25.141655  121.459785           4   \n",
       "3697  2517300500         捷運竹圍站  25.136591  121.460120           4   \n",
       "3698  2517301100         馬偕醫院一  25.139624  121.459786           4   \n",
       "\n",
       "                  x             y  \n",
       "0     302143.790748  2.769912e+06  \n",
       "1     301782.392692  2.770927e+06  \n",
       "2     301780.557479  2.770826e+06  \n",
       "3     301775.530123  2.770797e+06  \n",
       "4     301483.401044  2.770557e+06  \n",
       "...             ...           ...  \n",
       "3694  293342.737269  2.787515e+06  \n",
       "3695  294686.697500  2.786804e+06  \n",
       "3696  296357.683439  2.781547e+06  \n",
       "3697  296393.333479  2.780986e+06  \n",
       "3698  296358.561333  2.781322e+06  \n",
       "\n",
       "[3699 rows x 7 columns]"
      ]
     },
     "execution_count": 20,
     "metadata": {},
     "output_type": "execute_result"
    }
   ],
   "source": [
    "bus = pd.read_parquet(\"DATA/Bs/bus_agg_by_stop.pq\")\n",
    "bus"
   ]
  },
  {
   "cell_type": "markdown",
   "metadata": {},
   "source": [
    "我們將大台北地區所有公車路線以及其經過的佔，藉由爬蟲擷取下來，並統計單一站點所經過之公車數量。站點可能被區分為數個子站點，但並不影響加總。我們將各 Youbike 站點附近距離 $d$ 範圍內，所有公車子站點的公車數量加總，作為公車的指標。"
   ]
  },
  {
   "cell_type": "markdown",
   "metadata": {},
   "source": [
    "## 高中\n",
    "\n",
    "相比於大多數大學附近會設有捷運站的情況，高中則常常會與捷運站有一段距離，對於通勤上學的高中生來說，搭乘捷運至最近的捷運站後轉騎乘 Youbike 是一個較有效率的通勤方式。\n",
    "對於每一個 Youbike 站點，統計附近 $d$ 距離之內，是否設有高中。"
   ]
  },
  {
   "cell_type": "code",
   "execution_count": 21,
   "metadata": {},
   "outputs": [
    {
     "data": {
      "text/html": [
       "<div>\n",
       "<style scoped>\n",
       "    .dataframe tbody tr th:only-of-type {\n",
       "        vertical-align: middle;\n",
       "    }\n",
       "\n",
       "    .dataframe tbody tr th {\n",
       "        vertical-align: top;\n",
       "    }\n",
       "\n",
       "    .dataframe thead th {\n",
       "        text-align: right;\n",
       "    }\n",
       "</style>\n",
       "<table border=\"1\" class=\"dataframe\">\n",
       "  <thead>\n",
       "    <tr style=\"text-align: right;\">\n",
       "      <th></th>\n",
       "      <th>school_name</th>\n",
       "      <th>lat</th>\n",
       "      <th>lng</th>\n",
       "    </tr>\n",
       "  </thead>\n",
       "  <tbody>\n",
       "    <tr>\n",
       "      <th>0</th>\n",
       "      <td>臺北市立西松高級中學</td>\n",
       "      <td>25.054988</td>\n",
       "      <td>121.565841</td>\n",
       "    </tr>\n",
       "    <tr>\n",
       "      <th>1</th>\n",
       "      <td>臺北市立中崙高級中學</td>\n",
       "      <td>25.048714</td>\n",
       "      <td>121.561104</td>\n",
       "    </tr>\n",
       "    <tr>\n",
       "      <th>2</th>\n",
       "      <td>臺北市立松山高級中學</td>\n",
       "      <td>25.043634</td>\n",
       "      <td>121.565614</td>\n",
       "    </tr>\n",
       "    <tr>\n",
       "      <th>3</th>\n",
       "      <td>臺北市立永春高級中學</td>\n",
       "      <td>25.032446</td>\n",
       "      <td>121.578128</td>\n",
       "    </tr>\n",
       "    <tr>\n",
       "      <th>4</th>\n",
       "      <td>國立臺灣師範大學附屬高級中學</td>\n",
       "      <td>25.033674</td>\n",
       "      <td>121.540411</td>\n",
       "    </tr>\n",
       "    <tr>\n",
       "      <th>...</th>\n",
       "      <td>...</td>\n",
       "      <td>...</td>\n",
       "      <td>...</td>\n",
       "    </tr>\n",
       "    <tr>\n",
       "      <th>134</th>\n",
       "      <td>新北市私立清傳高級商業職業學校</td>\n",
       "      <td>25.052015</td>\n",
       "      <td>121.476840</td>\n",
       "    </tr>\n",
       "    <tr>\n",
       "      <th>135</th>\n",
       "      <td>新北市私立能仁高級家事商業職業學校</td>\n",
       "      <td>24.957891</td>\n",
       "      <td>121.540058</td>\n",
       "    </tr>\n",
       "    <tr>\n",
       "      <th>136</th>\n",
       "      <td>新北市私立豫章高級工商職業學校</td>\n",
       "      <td>24.997370</td>\n",
       "      <td>121.458729</td>\n",
       "    </tr>\n",
       "    <tr>\n",
       "      <th>137</th>\n",
       "      <td>新北市私立莊敬高級工業家事職業學校</td>\n",
       "      <td>24.985717</td>\n",
       "      <td>121.532169</td>\n",
       "    </tr>\n",
       "    <tr>\n",
       "      <th>138</th>\n",
       "      <td>新北市私立中華商業海事職業學校</td>\n",
       "      <td>25.175372</td>\n",
       "      <td>121.687219</td>\n",
       "    </tr>\n",
       "  </tbody>\n",
       "</table>\n",
       "<p>139 rows × 3 columns</p>\n",
       "</div>"
      ],
      "text/plain": [
       "           school_name        lat         lng\n",
       "0           臺北市立西松高級中學  25.054988  121.565841\n",
       "1           臺北市立中崙高級中學  25.048714  121.561104\n",
       "2           臺北市立松山高級中學  25.043634  121.565614\n",
       "3           臺北市立永春高級中學  25.032446  121.578128\n",
       "4       國立臺灣師範大學附屬高級中學  25.033674  121.540411\n",
       "..                 ...        ...         ...\n",
       "134    新北市私立清傳高級商業職業學校  25.052015  121.476840\n",
       "135  新北市私立能仁高級家事商業職業學校  24.957891  121.540058\n",
       "136    新北市私立豫章高級工商職業學校  24.997370  121.458729\n",
       "137  新北市私立莊敬高級工業家事職業學校  24.985717  121.532169\n",
       "138    新北市私立中華商業海事職業學校  25.175372  121.687219\n",
       "\n",
       "[139 rows x 3 columns]"
      ]
     },
     "execution_count": 21,
     "metadata": {},
     "output_type": "execute_result"
    }
   ],
   "source": [
    "highschool = pd.read_parquet(\"DATA/Education/highschool_coord.pq\")\n",
    "highschool"
   ]
  },
  {
   "cell_type": "markdown",
   "metadata": {},
   "source": [
    "## 景點\n",
    "\n",
    "觀光景點附近使用 Youbike 機率較高。對於每一個 Youbike 站點，統計附近 $d$ 距離之內，有多少官方定義之觀光景點。"
   ]
  },
  {
   "cell_type": "code",
   "execution_count": 22,
   "metadata": {},
   "outputs": [
    {
     "data": {
      "text/html": [
       "<div>\n",
       "<style scoped>\n",
       "    .dataframe tbody tr th:only-of-type {\n",
       "        vertical-align: middle;\n",
       "    }\n",
       "\n",
       "    .dataframe tbody tr th {\n",
       "        vertical-align: top;\n",
       "    }\n",
       "\n",
       "    .dataframe thead th {\n",
       "        text-align: right;\n",
       "    }\n",
       "</style>\n",
       "<table border=\"1\" class=\"dataframe\">\n",
       "  <thead>\n",
       "    <tr style=\"text-align: right;\">\n",
       "      <th></th>\n",
       "      <th>tour_name</th>\n",
       "      <th>lat</th>\n",
       "      <th>lng</th>\n",
       "      <th>Class1</th>\n",
       "      <th>Class2</th>\n",
       "      <th>Class3</th>\n",
       "    </tr>\n",
       "  </thead>\n",
       "  <tbody>\n",
       "    <tr>\n",
       "      <th>3767</th>\n",
       "      <td>芝山巖惠濟宮</td>\n",
       "      <td>25.10310</td>\n",
       "      <td>121.53080</td>\n",
       "      <td>4</td>\n",
       "      <td>NaN</td>\n",
       "      <td>NaN</td>\n",
       "    </tr>\n",
       "    <tr>\n",
       "      <th>3995</th>\n",
       "      <td>西昌街觀光夜市</td>\n",
       "      <td>25.03838</td>\n",
       "      <td>121.50060</td>\n",
       "      <td>6</td>\n",
       "      <td>NaN</td>\n",
       "      <td>NaN</td>\n",
       "    </tr>\n",
       "    <tr>\n",
       "      <th>4094</th>\n",
       "      <td>中央藝文公園_華山大草原遊戲場</td>\n",
       "      <td>25.04612</td>\n",
       "      <td>121.52683</td>\n",
       "      <td>18</td>\n",
       "      <td>NaN</td>\n",
       "      <td>NaN</td>\n",
       "    </tr>\n",
       "    <tr>\n",
       "      <th>3842</th>\n",
       "      <td>錫口(彩虹)碼頭</td>\n",
       "      <td>25.05151</td>\n",
       "      <td>121.57648</td>\n",
       "      <td>12</td>\n",
       "      <td>NaN</td>\n",
       "      <td>NaN</td>\n",
       "    </tr>\n",
       "    <tr>\n",
       "      <th>3975</th>\n",
       "      <td>博愛路_漢口街_相機街</td>\n",
       "      <td>25.04533</td>\n",
       "      <td>121.51139</td>\n",
       "      <td>18</td>\n",
       "      <td>NaN</td>\n",
       "      <td>NaN</td>\n",
       "    </tr>\n",
       "    <tr>\n",
       "      <th>3976</th>\n",
       "      <td>文昌街_家具街</td>\n",
       "      <td>25.03220</td>\n",
       "      <td>121.55647</td>\n",
       "      <td>18</td>\n",
       "      <td>NaN</td>\n",
       "      <td>NaN</td>\n",
       "    </tr>\n",
       "    <tr>\n",
       "      <th>4139</th>\n",
       "      <td>CITYLINK南港店</td>\n",
       "      <td>25.05264</td>\n",
       "      <td>121.60598</td>\n",
       "      <td>18</td>\n",
       "      <td>NaN</td>\n",
       "      <td>NaN</td>\n",
       "    </tr>\n",
       "    <tr>\n",
       "      <th>3852</th>\n",
       "      <td>華中河濱公園</td>\n",
       "      <td>25.01540</td>\n",
       "      <td>121.49476</td>\n",
       "      <td>12</td>\n",
       "      <td>13.0</td>\n",
       "      <td>15.0</td>\n",
       "    </tr>\n",
       "    <tr>\n",
       "      <th>3868</th>\n",
       "      <td>擎天崗</td>\n",
       "      <td>25.16727</td>\n",
       "      <td>121.57419</td>\n",
       "      <td>7</td>\n",
       "      <td>8.0</td>\n",
       "      <td>16.0</td>\n",
       "    </tr>\n",
       "    <tr>\n",
       "      <th>4033</th>\n",
       "      <td>新北投善光寺</td>\n",
       "      <td>25.13551</td>\n",
       "      <td>121.51890</td>\n",
       "      <td>4</td>\n",
       "      <td>NaN</td>\n",
       "      <td>NaN</td>\n",
       "    </tr>\n",
       "  </tbody>\n",
       "</table>\n",
       "</div>"
      ],
      "text/plain": [
       "            tour_name       lat        lng  Class1  Class2  Class3\n",
       "3767           芝山巖惠濟宮  25.10310  121.53080       4     NaN     NaN\n",
       "3995          西昌街觀光夜市  25.03838  121.50060       6     NaN     NaN\n",
       "4094  中央藝文公園_華山大草原遊戲場  25.04612  121.52683      18     NaN     NaN\n",
       "3842         錫口(彩虹)碼頭  25.05151  121.57648      12     NaN     NaN\n",
       "3975      博愛路_漢口街_相機街  25.04533  121.51139      18     NaN     NaN\n",
       "3976          文昌街_家具街  25.03220  121.55647      18     NaN     NaN\n",
       "4139      CITYLINK南港店  25.05264  121.60598      18     NaN     NaN\n",
       "3852           華中河濱公園  25.01540  121.49476      12    13.0    15.0\n",
       "3868              擎天崗  25.16727  121.57419       7     8.0    16.0\n",
       "4033           新北投善光寺  25.13551  121.51890       4     NaN     NaN"
      ]
     },
     "execution_count": 22,
     "metadata": {},
     "output_type": "execute_result"
    }
   ],
   "source": [
    "tourist_spot = pd.read_parquet(\"DATA/Tourist/taipei_tour.pq\")\n",
    "tourist_spot.sample(n=10)"
   ]
  },
  {
   "cell_type": "markdown",
   "metadata": {},
   "source": [
    "### 河濱自行車道\n",
    "\n",
    "河濱自行車道為另一種特別之觀光景點。自行車道為路徑，因此只要 Youbike 站點位於河濱自行車道一定距離之內，皆可視為單車娛樂之涵蓋範圍。我們以自行車道向外延伸 1km 的範圍內覆蓋的站點標記為「河濱車柱」，加入特徵中。\n"
   ]
  },
  {
   "cell_type": "code",
   "execution_count": 23,
   "metadata": {},
   "outputs": [
    {
     "data": {
      "text/html": [
       "<div>\n",
       "<style scoped>\n",
       "    .dataframe tbody tr th:only-of-type {\n",
       "        vertical-align: middle;\n",
       "    }\n",
       "\n",
       "    .dataframe tbody tr th {\n",
       "        vertical-align: top;\n",
       "    }\n",
       "\n",
       "    .dataframe thead th {\n",
       "        text-align: right;\n",
       "    }\n",
       "</style>\n",
       "<table border=\"1\" class=\"dataframe\">\n",
       "  <thead>\n",
       "    <tr style=\"text-align: right;\">\n",
       "      <th></th>\n",
       "      <th>lat</th>\n",
       "      <th>lng</th>\n",
       "    </tr>\n",
       "  </thead>\n",
       "  <tbody>\n",
       "    <tr>\n",
       "      <th>0</th>\n",
       "      <td>25.109929</td>\n",
       "      <td>121.467283</td>\n",
       "    </tr>\n",
       "    <tr>\n",
       "      <th>1</th>\n",
       "      <td>25.109890</td>\n",
       "      <td>121.467547</td>\n",
       "    </tr>\n",
       "    <tr>\n",
       "      <th>2</th>\n",
       "      <td>25.109818</td>\n",
       "      <td>121.467912</td>\n",
       "    </tr>\n",
       "    <tr>\n",
       "      <th>3</th>\n",
       "      <td>25.109660</td>\n",
       "      <td>121.468860</td>\n",
       "    </tr>\n",
       "    <tr>\n",
       "      <th>4</th>\n",
       "      <td>25.109676</td>\n",
       "      <td>121.468981</td>\n",
       "    </tr>\n",
       "    <tr>\n",
       "      <th>...</th>\n",
       "      <td>...</td>\n",
       "      <td>...</td>\n",
       "    </tr>\n",
       "    <tr>\n",
       "      <th>4366</th>\n",
       "      <td>25.098003</td>\n",
       "      <td>121.511199</td>\n",
       "    </tr>\n",
       "    <tr>\n",
       "      <th>4367</th>\n",
       "      <td>25.097981</td>\n",
       "      <td>121.511194</td>\n",
       "    </tr>\n",
       "    <tr>\n",
       "      <th>4368</th>\n",
       "      <td>25.097958</td>\n",
       "      <td>121.511195</td>\n",
       "    </tr>\n",
       "    <tr>\n",
       "      <th>4369</th>\n",
       "      <td>25.097936</td>\n",
       "      <td>121.511199</td>\n",
       "    </tr>\n",
       "    <tr>\n",
       "      <th>4370</th>\n",
       "      <td>25.097915</td>\n",
       "      <td>121.511207</td>\n",
       "    </tr>\n",
       "  </tbody>\n",
       "</table>\n",
       "<p>4371 rows × 2 columns</p>\n",
       "</div>"
      ],
      "text/plain": [
       "            lat         lng\n",
       "0     25.109929  121.467283\n",
       "1     25.109890  121.467547\n",
       "2     25.109818  121.467912\n",
       "3     25.109660  121.468860\n",
       "4     25.109676  121.468981\n",
       "...         ...         ...\n",
       "4366  25.098003  121.511199\n",
       "4367  25.097981  121.511194\n",
       "4368  25.097958  121.511195\n",
       "4369  25.097936  121.511199\n",
       "4370  25.097915  121.511207\n",
       "\n",
       "[4371 rows x 2 columns]"
      ]
     },
     "execution_count": 23,
     "metadata": {},
     "output_type": "execute_result"
    }
   ],
   "source": [
    "bike_route = pd.read_parquet(\"DATA/Tourist/tpe_river_bike.pq\")\n",
    "bike_route"
   ]
  },
  {
   "cell_type": "markdown",
   "metadata": {},
   "source": [
    "## 7-11 座標\n",
    "\n",
    "為了更全面的捕捉繁華程度，我們將遍布大台北地區的 7-11 納入資料中。\n",
    "我們將各 Youbike 站點附近距離 $d$ 範圍內，所有 7-11 的數量加總，作為便利商店的指標。"
   ]
  },
  {
   "cell_type": "code",
   "execution_count": 24,
   "metadata": {},
   "outputs": [
    {
     "data": {
      "text/html": [
       "<div>\n",
       "<style scoped>\n",
       "    .dataframe tbody tr th:only-of-type {\n",
       "        vertical-align: middle;\n",
       "    }\n",
       "\n",
       "    .dataframe tbody tr th {\n",
       "        vertical-align: top;\n",
       "    }\n",
       "\n",
       "    .dataframe thead th {\n",
       "        text-align: right;\n",
       "    }\n",
       "</style>\n",
       "<table border=\"1\" class=\"dataframe\">\n",
       "  <thead>\n",
       "    <tr style=\"text-align: right;\">\n",
       "      <th></th>\n",
       "      <th>store_name</th>\n",
       "      <th>lat</th>\n",
       "      <th>lng</th>\n",
       "    </tr>\n",
       "  </thead>\n",
       "  <tbody>\n",
       "    <tr>\n",
       "      <th>0</th>\n",
       "      <td>上弘</td>\n",
       "      <td>25.056391</td>\n",
       "      <td>121.548287</td>\n",
       "    </tr>\n",
       "    <tr>\n",
       "      <th>1</th>\n",
       "      <td>小巨蛋</td>\n",
       "      <td>25.050944</td>\n",
       "      <td>121.549433</td>\n",
       "    </tr>\n",
       "    <tr>\n",
       "      <th>2</th>\n",
       "      <td>中崙</td>\n",
       "      <td>25.048396</td>\n",
       "      <td>121.552737</td>\n",
       "    </tr>\n",
       "    <tr>\n",
       "      <th>3</th>\n",
       "      <td>北體</td>\n",
       "      <td>25.050888</td>\n",
       "      <td>121.552850</td>\n",
       "    </tr>\n",
       "    <tr>\n",
       "      <th>4</th>\n",
       "      <td>台場</td>\n",
       "      <td>25.048086</td>\n",
       "      <td>121.551158</td>\n",
       "    </tr>\n",
       "    <tr>\n",
       "      <th>...</th>\n",
       "      <td>...</td>\n",
       "      <td>...</td>\n",
       "      <td>...</td>\n",
       "    </tr>\n",
       "    <tr>\n",
       "      <th>898</th>\n",
       "      <td>懷得</td>\n",
       "      <td>25.114096</td>\n",
       "      <td>121.519656</td>\n",
       "    </tr>\n",
       "    <tr>\n",
       "      <th>899</th>\n",
       "      <td>關渡</td>\n",
       "      <td>25.121540</td>\n",
       "      <td>121.467483</td>\n",
       "    </tr>\n",
       "    <tr>\n",
       "      <th>900</th>\n",
       "      <td>關渡站</td>\n",
       "      <td>25.125037</td>\n",
       "      <td>121.467181</td>\n",
       "    </tr>\n",
       "    <tr>\n",
       "      <th>901</th>\n",
       "      <td>鐏賢</td>\n",
       "      <td>25.117453</td>\n",
       "      <td>121.506854</td>\n",
       "    </tr>\n",
       "    <tr>\n",
       "      <th>902</th>\n",
       "      <td>護專</td>\n",
       "      <td>25.118001</td>\n",
       "      <td>121.522299</td>\n",
       "    </tr>\n",
       "  </tbody>\n",
       "</table>\n",
       "<p>903 rows × 3 columns</p>\n",
       "</div>"
      ],
      "text/plain": [
       "    store_name        lat         lng\n",
       "0           上弘  25.056391  121.548287\n",
       "1          小巨蛋  25.050944  121.549433\n",
       "2           中崙  25.048396  121.552737\n",
       "3           北體  25.050888  121.552850\n",
       "4           台場  25.048086  121.551158\n",
       "..         ...        ...         ...\n",
       "898         懷得  25.114096  121.519656\n",
       "899         關渡  25.121540  121.467483\n",
       "900        關渡站  25.125037  121.467181\n",
       "901         鐏賢  25.117453  121.506854\n",
       "902         護專  25.118001  121.522299\n",
       "\n",
       "[903 rows x 3 columns]"
      ]
     },
     "execution_count": 24,
     "metadata": {},
     "output_type": "execute_result"
    }
   ],
   "source": [
    "conv_store = pd.read_parquet(\"DATA/711/all_711_coord.pq\")\n",
    "conv_store"
   ]
  },
  {
   "cell_type": "markdown",
   "metadata": {},
   "source": [
    "## 天氣\n",
    "\n",
    "考量到當天氣太冷、太熱或是下雨天，皆會影響到騎乘 Youbike 的意願，因此我們將 2020/4 ~ 2023/12 大台北地區歷史天氣資料藉由爬蟲擷取下來，其中氣象觀測站包含「信義」、「臺北」、「竹子湖」、「社子」、「石牌」、「天母」、「平等」、「內湖」、「松山」、「文山」。\n",
    "資料包含了氣溫、濕度、風速、雨量、以及各觀測站的經緯度。"
   ]
  },
  {
   "cell_type": "code",
   "execution_count": 25,
   "metadata": {},
   "outputs": [],
   "source": [
    "weather_df = pd.read_csv(\"DATA/Weather/weather_data_with_coord.csv\", parse_dates=['datetime']).convert_dtypes(dtype_backend='pyarrow')"
   ]
  },
  {
   "cell_type": "code",
   "execution_count": 26,
   "metadata": {},
   "outputs": [
    {
     "data": {
      "text/html": [
       "<div>\n",
       "<style scoped>\n",
       "    .dataframe tbody tr th:only-of-type {\n",
       "        vertical-align: middle;\n",
       "    }\n",
       "\n",
       "    .dataframe tbody tr th {\n",
       "        vertical-align: top;\n",
       "    }\n",
       "\n",
       "    .dataframe thead th {\n",
       "        text-align: right;\n",
       "    }\n",
       "</style>\n",
       "<table border=\"1\" class=\"dataframe\">\n",
       "  <thead>\n",
       "    <tr style=\"text-align: right;\">\n",
       "      <th></th>\n",
       "      <th>datetime</th>\n",
       "      <th>temperature</th>\n",
       "      <th>relative_humidity</th>\n",
       "      <th>wind_speed</th>\n",
       "      <th>precipitation</th>\n",
       "      <th>station_id</th>\n",
       "      <th>station_name</th>\n",
       "      <th>station_type</th>\n",
       "      <th>latitude</th>\n",
       "      <th>longitude</th>\n",
       "    </tr>\n",
       "  </thead>\n",
       "  <tbody>\n",
       "    <tr>\n",
       "      <th>289200</th>\n",
       "      <td>2020-04-01 01:00:00</td>\n",
       "      <td>20.0</td>\n",
       "      <td>97</td>\n",
       "      <td>1.1</td>\n",
       "      <td>1.0</td>\n",
       "      <td>C0AC70</td>\n",
       "      <td>信義</td>\n",
       "      <td>auto_C0</td>\n",
       "      <td>25.0378</td>\n",
       "      <td>121.5646</td>\n",
       "    </tr>\n",
       "    <tr>\n",
       "      <th>289202</th>\n",
       "      <td>2020-04-01 02:00:00</td>\n",
       "      <td>19.3</td>\n",
       "      <td>96</td>\n",
       "      <td>1.1</td>\n",
       "      <td>0.0</td>\n",
       "      <td>C0AC70</td>\n",
       "      <td>信義</td>\n",
       "      <td>auto_C0</td>\n",
       "      <td>25.0378</td>\n",
       "      <td>121.5646</td>\n",
       "    </tr>\n",
       "    <tr>\n",
       "      <th>289204</th>\n",
       "      <td>2020-04-01 03:00:00</td>\n",
       "      <td>18.7</td>\n",
       "      <td>96</td>\n",
       "      <td>0.3</td>\n",
       "      <td>0.5</td>\n",
       "      <td>C0AC70</td>\n",
       "      <td>信義</td>\n",
       "      <td>auto_C0</td>\n",
       "      <td>25.0378</td>\n",
       "      <td>121.5646</td>\n",
       "    </tr>\n",
       "    <tr>\n",
       "      <th>289206</th>\n",
       "      <td>2020-04-01 04:00:00</td>\n",
       "      <td>18.3</td>\n",
       "      <td>96</td>\n",
       "      <td>0.9</td>\n",
       "      <td>0.5</td>\n",
       "      <td>C0AC70</td>\n",
       "      <td>信義</td>\n",
       "      <td>auto_C0</td>\n",
       "      <td>25.0378</td>\n",
       "      <td>121.5646</td>\n",
       "    </tr>\n",
       "    <tr>\n",
       "      <th>289208</th>\n",
       "      <td>2020-04-01 05:00:00</td>\n",
       "      <td>18.3</td>\n",
       "      <td>94</td>\n",
       "      <td>1.0</td>\n",
       "      <td>0.0</td>\n",
       "      <td>C0AC70</td>\n",
       "      <td>信義</td>\n",
       "      <td>auto_C0</td>\n",
       "      <td>25.0378</td>\n",
       "      <td>121.5646</td>\n",
       "    </tr>\n",
       "    <tr>\n",
       "      <th>...</th>\n",
       "      <td>...</td>\n",
       "      <td>...</td>\n",
       "      <td>...</td>\n",
       "      <td>...</td>\n",
       "      <td>...</td>\n",
       "      <td>...</td>\n",
       "      <td>...</td>\n",
       "      <td>...</td>\n",
       "      <td>...</td>\n",
       "      <td>...</td>\n",
       "    </tr>\n",
       "    <tr>\n",
       "      <th>52555</th>\n",
       "      <td>2023-12-31 20:00:00</td>\n",
       "      <td>18.4</td>\n",
       "      <td>67</td>\n",
       "      <td>4.2</td>\n",
       "      <td>0.0</td>\n",
       "      <td>466920</td>\n",
       "      <td>臺北</td>\n",
       "      <td>cwb</td>\n",
       "      <td>25.0377</td>\n",
       "      <td>121.5149</td>\n",
       "    </tr>\n",
       "    <tr>\n",
       "      <th>52556</th>\n",
       "      <td>2023-12-31 21:00:00</td>\n",
       "      <td>18.2</td>\n",
       "      <td>64</td>\n",
       "      <td>4.1</td>\n",
       "      <td>0.0</td>\n",
       "      <td>466920</td>\n",
       "      <td>臺北</td>\n",
       "      <td>cwb</td>\n",
       "      <td>25.0377</td>\n",
       "      <td>121.5149</td>\n",
       "    </tr>\n",
       "    <tr>\n",
       "      <th>52557</th>\n",
       "      <td>2023-12-31 22:00:00</td>\n",
       "      <td>17.9</td>\n",
       "      <td>65</td>\n",
       "      <td>4.2</td>\n",
       "      <td>0.0</td>\n",
       "      <td>466920</td>\n",
       "      <td>臺北</td>\n",
       "      <td>cwb</td>\n",
       "      <td>25.0377</td>\n",
       "      <td>121.5149</td>\n",
       "    </tr>\n",
       "    <tr>\n",
       "      <th>52558</th>\n",
       "      <td>2023-12-31 23:00:00</td>\n",
       "      <td>17.6</td>\n",
       "      <td>61</td>\n",
       "      <td>4.7</td>\n",
       "      <td>0.0</td>\n",
       "      <td>466920</td>\n",
       "      <td>臺北</td>\n",
       "      <td>cwb</td>\n",
       "      <td>25.0377</td>\n",
       "      <td>121.5149</td>\n",
       "    </tr>\n",
       "    <tr>\n",
       "      <th>52559</th>\n",
       "      <td>2023-12-31 23:59:00</td>\n",
       "      <td>17.4</td>\n",
       "      <td>62</td>\n",
       "      <td>3.8</td>\n",
       "      <td>0.0</td>\n",
       "      <td>466920</td>\n",
       "      <td>臺北</td>\n",
       "      <td>cwb</td>\n",
       "      <td>25.0377</td>\n",
       "      <td>121.5149</td>\n",
       "    </tr>\n",
       "  </tbody>\n",
       "</table>\n",
       "<p>328800 rows × 10 columns</p>\n",
       "</div>"
      ],
      "text/plain": [
       "                   datetime  temperature  relative_humidity  wind_speed  \\\n",
       "289200  2020-04-01 01:00:00         20.0                 97         1.1   \n",
       "289202  2020-04-01 02:00:00         19.3                 96         1.1   \n",
       "289204  2020-04-01 03:00:00         18.7                 96         0.3   \n",
       "289206  2020-04-01 04:00:00         18.3                 96         0.9   \n",
       "289208  2020-04-01 05:00:00         18.3                 94         1.0   \n",
       "...                     ...          ...                ...         ...   \n",
       "52555   2023-12-31 20:00:00         18.4                 67         4.2   \n",
       "52556   2023-12-31 21:00:00         18.2                 64         4.1   \n",
       "52557   2023-12-31 22:00:00         17.9                 65         4.2   \n",
       "52558   2023-12-31 23:00:00         17.6                 61         4.7   \n",
       "52559   2023-12-31 23:59:00         17.4                 62         3.8   \n",
       "\n",
       "        precipitation station_id station_name station_type  latitude  \\\n",
       "289200            1.0     C0AC70           信義      auto_C0   25.0378   \n",
       "289202            0.0     C0AC70           信義      auto_C0   25.0378   \n",
       "289204            0.5     C0AC70           信義      auto_C0   25.0378   \n",
       "289206            0.5     C0AC70           信義      auto_C0   25.0378   \n",
       "289208            0.0     C0AC70           信義      auto_C0   25.0378   \n",
       "...               ...        ...          ...          ...       ...   \n",
       "52555             0.0     466920           臺北          cwb   25.0377   \n",
       "52556             0.0     466920           臺北          cwb   25.0377   \n",
       "52557             0.0     466920           臺北          cwb   25.0377   \n",
       "52558             0.0     466920           臺北          cwb   25.0377   \n",
       "52559             0.0     466920           臺北          cwb   25.0377   \n",
       "\n",
       "        longitude  \n",
       "289200   121.5646  \n",
       "289202   121.5646  \n",
       "289204   121.5646  \n",
       "289206   121.5646  \n",
       "289208   121.5646  \n",
       "...           ...  \n",
       "52555    121.5149  \n",
       "52556    121.5149  \n",
       "52557    121.5149  \n",
       "52558    121.5149  \n",
       "52559    121.5149  \n",
       "\n",
       "[328800 rows x 10 columns]"
      ]
     },
     "execution_count": 26,
     "metadata": {},
     "output_type": "execute_result"
    }
   ],
   "source": [
    "weather_df.sort_values(['station_name', 'datetime'])"
   ]
  },
  {
   "cell_type": "code",
   "execution_count": 27,
   "metadata": {},
   "outputs": [
    {
     "data": {
      "application/vnd.plotly.v1+json": {
       "config": {
        "plotlyServerURL": "https://plot.ly"
       },
       "data": [
        {
         "hovertemplate": "<b>%{hovertext}</b><br><br>latitude=%{lat}<br>longitude=%{lon}<extra></extra>",
         "hovertext": [
          "信義",
          "內湖",
          "天母",
          "平等",
          "文山",
          "松山",
          "石牌",
          "社子",
          "竹子湖",
          "臺北"
         ],
         "lat": [
          25.0378,
          25.0794,
          25.1175,
          25.1291,
          25.0023,
          25.0487,
          25.1156,
          25.1095,
          25.1621,
          25.0377
         ],
         "legendgroup": "",
         "lon": [
          121.5646,
          121.5755,
          121.5372,
          121.5771,
          121.5757,
          121.5504,
          121.5131,
          121.4697,
          121.5445,
          121.5149
         ],
         "marker": {
          "color": "#636efa"
         },
         "mode": "markers",
         "name": "",
         "showlegend": false,
         "subplot": "mapbox",
         "type": "scattermapbox"
        }
       ],
       "layout": {
        "legend": {
         "tracegroupgap": 0
        },
        "mapbox": {
         "center": {
          "lat": 25.08397,
          "lon": 121.54226999999999
         },
         "domain": {
          "x": [
           0,
           1
          ],
          "y": [
           0,
           1
          ]
         },
         "style": "carto-positron",
         "zoom": 8
        },
        "margin": {
         "t": 60
        },
        "template": {
         "data": {
          "bar": [
           {
            "error_x": {
             "color": "#2a3f5f"
            },
            "error_y": {
             "color": "#2a3f5f"
            },
            "marker": {
             "line": {
              "color": "#E5ECF6",
              "width": 0.5
             },
             "pattern": {
              "fillmode": "overlay",
              "size": 10,
              "solidity": 0.2
             }
            },
            "type": "bar"
           }
          ],
          "barpolar": [
           {
            "marker": {
             "line": {
              "color": "#E5ECF6",
              "width": 0.5
             },
             "pattern": {
              "fillmode": "overlay",
              "size": 10,
              "solidity": 0.2
             }
            },
            "type": "barpolar"
           }
          ],
          "carpet": [
           {
            "aaxis": {
             "endlinecolor": "#2a3f5f",
             "gridcolor": "white",
             "linecolor": "white",
             "minorgridcolor": "white",
             "startlinecolor": "#2a3f5f"
            },
            "baxis": {
             "endlinecolor": "#2a3f5f",
             "gridcolor": "white",
             "linecolor": "white",
             "minorgridcolor": "white",
             "startlinecolor": "#2a3f5f"
            },
            "type": "carpet"
           }
          ],
          "choropleth": [
           {
            "colorbar": {
             "outlinewidth": 0,
             "ticks": ""
            },
            "type": "choropleth"
           }
          ],
          "contour": [
           {
            "colorbar": {
             "outlinewidth": 0,
             "ticks": ""
            },
            "colorscale": [
             [
              0,
              "#0d0887"
             ],
             [
              0.1111111111111111,
              "#46039f"
             ],
             [
              0.2222222222222222,
              "#7201a8"
             ],
             [
              0.3333333333333333,
              "#9c179e"
             ],
             [
              0.4444444444444444,
              "#bd3786"
             ],
             [
              0.5555555555555556,
              "#d8576b"
             ],
             [
              0.6666666666666666,
              "#ed7953"
             ],
             [
              0.7777777777777778,
              "#fb9f3a"
             ],
             [
              0.8888888888888888,
              "#fdca26"
             ],
             [
              1,
              "#f0f921"
             ]
            ],
            "type": "contour"
           }
          ],
          "contourcarpet": [
           {
            "colorbar": {
             "outlinewidth": 0,
             "ticks": ""
            },
            "type": "contourcarpet"
           }
          ],
          "heatmap": [
           {
            "colorbar": {
             "outlinewidth": 0,
             "ticks": ""
            },
            "colorscale": [
             [
              0,
              "#0d0887"
             ],
             [
              0.1111111111111111,
              "#46039f"
             ],
             [
              0.2222222222222222,
              "#7201a8"
             ],
             [
              0.3333333333333333,
              "#9c179e"
             ],
             [
              0.4444444444444444,
              "#bd3786"
             ],
             [
              0.5555555555555556,
              "#d8576b"
             ],
             [
              0.6666666666666666,
              "#ed7953"
             ],
             [
              0.7777777777777778,
              "#fb9f3a"
             ],
             [
              0.8888888888888888,
              "#fdca26"
             ],
             [
              1,
              "#f0f921"
             ]
            ],
            "type": "heatmap"
           }
          ],
          "heatmapgl": [
           {
            "colorbar": {
             "outlinewidth": 0,
             "ticks": ""
            },
            "colorscale": [
             [
              0,
              "#0d0887"
             ],
             [
              0.1111111111111111,
              "#46039f"
             ],
             [
              0.2222222222222222,
              "#7201a8"
             ],
             [
              0.3333333333333333,
              "#9c179e"
             ],
             [
              0.4444444444444444,
              "#bd3786"
             ],
             [
              0.5555555555555556,
              "#d8576b"
             ],
             [
              0.6666666666666666,
              "#ed7953"
             ],
             [
              0.7777777777777778,
              "#fb9f3a"
             ],
             [
              0.8888888888888888,
              "#fdca26"
             ],
             [
              1,
              "#f0f921"
             ]
            ],
            "type": "heatmapgl"
           }
          ],
          "histogram": [
           {
            "marker": {
             "pattern": {
              "fillmode": "overlay",
              "size": 10,
              "solidity": 0.2
             }
            },
            "type": "histogram"
           }
          ],
          "histogram2d": [
           {
            "colorbar": {
             "outlinewidth": 0,
             "ticks": ""
            },
            "colorscale": [
             [
              0,
              "#0d0887"
             ],
             [
              0.1111111111111111,
              "#46039f"
             ],
             [
              0.2222222222222222,
              "#7201a8"
             ],
             [
              0.3333333333333333,
              "#9c179e"
             ],
             [
              0.4444444444444444,
              "#bd3786"
             ],
             [
              0.5555555555555556,
              "#d8576b"
             ],
             [
              0.6666666666666666,
              "#ed7953"
             ],
             [
              0.7777777777777778,
              "#fb9f3a"
             ],
             [
              0.8888888888888888,
              "#fdca26"
             ],
             [
              1,
              "#f0f921"
             ]
            ],
            "type": "histogram2d"
           }
          ],
          "histogram2dcontour": [
           {
            "colorbar": {
             "outlinewidth": 0,
             "ticks": ""
            },
            "colorscale": [
             [
              0,
              "#0d0887"
             ],
             [
              0.1111111111111111,
              "#46039f"
             ],
             [
              0.2222222222222222,
              "#7201a8"
             ],
             [
              0.3333333333333333,
              "#9c179e"
             ],
             [
              0.4444444444444444,
              "#bd3786"
             ],
             [
              0.5555555555555556,
              "#d8576b"
             ],
             [
              0.6666666666666666,
              "#ed7953"
             ],
             [
              0.7777777777777778,
              "#fb9f3a"
             ],
             [
              0.8888888888888888,
              "#fdca26"
             ],
             [
              1,
              "#f0f921"
             ]
            ],
            "type": "histogram2dcontour"
           }
          ],
          "mesh3d": [
           {
            "colorbar": {
             "outlinewidth": 0,
             "ticks": ""
            },
            "type": "mesh3d"
           }
          ],
          "parcoords": [
           {
            "line": {
             "colorbar": {
              "outlinewidth": 0,
              "ticks": ""
             }
            },
            "type": "parcoords"
           }
          ],
          "pie": [
           {
            "automargin": true,
            "type": "pie"
           }
          ],
          "scatter": [
           {
            "fillpattern": {
             "fillmode": "overlay",
             "size": 10,
             "solidity": 0.2
            },
            "type": "scatter"
           }
          ],
          "scatter3d": [
           {
            "line": {
             "colorbar": {
              "outlinewidth": 0,
              "ticks": ""
             }
            },
            "marker": {
             "colorbar": {
              "outlinewidth": 0,
              "ticks": ""
             }
            },
            "type": "scatter3d"
           }
          ],
          "scattercarpet": [
           {
            "marker": {
             "colorbar": {
              "outlinewidth": 0,
              "ticks": ""
             }
            },
            "type": "scattercarpet"
           }
          ],
          "scattergeo": [
           {
            "marker": {
             "colorbar": {
              "outlinewidth": 0,
              "ticks": ""
             }
            },
            "type": "scattergeo"
           }
          ],
          "scattergl": [
           {
            "marker": {
             "colorbar": {
              "outlinewidth": 0,
              "ticks": ""
             }
            },
            "type": "scattergl"
           }
          ],
          "scattermapbox": [
           {
            "marker": {
             "colorbar": {
              "outlinewidth": 0,
              "ticks": ""
             }
            },
            "type": "scattermapbox"
           }
          ],
          "scatterpolar": [
           {
            "marker": {
             "colorbar": {
              "outlinewidth": 0,
              "ticks": ""
             }
            },
            "type": "scatterpolar"
           }
          ],
          "scatterpolargl": [
           {
            "marker": {
             "colorbar": {
              "outlinewidth": 0,
              "ticks": ""
             }
            },
            "type": "scatterpolargl"
           }
          ],
          "scatterternary": [
           {
            "marker": {
             "colorbar": {
              "outlinewidth": 0,
              "ticks": ""
             }
            },
            "type": "scatterternary"
           }
          ],
          "surface": [
           {
            "colorbar": {
             "outlinewidth": 0,
             "ticks": ""
            },
            "colorscale": [
             [
              0,
              "#0d0887"
             ],
             [
              0.1111111111111111,
              "#46039f"
             ],
             [
              0.2222222222222222,
              "#7201a8"
             ],
             [
              0.3333333333333333,
              "#9c179e"
             ],
             [
              0.4444444444444444,
              "#bd3786"
             ],
             [
              0.5555555555555556,
              "#d8576b"
             ],
             [
              0.6666666666666666,
              "#ed7953"
             ],
             [
              0.7777777777777778,
              "#fb9f3a"
             ],
             [
              0.8888888888888888,
              "#fdca26"
             ],
             [
              1,
              "#f0f921"
             ]
            ],
            "type": "surface"
           }
          ],
          "table": [
           {
            "cells": {
             "fill": {
              "color": "#EBF0F8"
             },
             "line": {
              "color": "white"
             }
            },
            "header": {
             "fill": {
              "color": "#C8D4E3"
             },
             "line": {
              "color": "white"
             }
            },
            "type": "table"
           }
          ]
         },
         "layout": {
          "annotationdefaults": {
           "arrowcolor": "#2a3f5f",
           "arrowhead": 0,
           "arrowwidth": 1
          },
          "autotypenumbers": "strict",
          "coloraxis": {
           "colorbar": {
            "outlinewidth": 0,
            "ticks": ""
           }
          },
          "colorscale": {
           "diverging": [
            [
             0,
             "#8e0152"
            ],
            [
             0.1,
             "#c51b7d"
            ],
            [
             0.2,
             "#de77ae"
            ],
            [
             0.3,
             "#f1b6da"
            ],
            [
             0.4,
             "#fde0ef"
            ],
            [
             0.5,
             "#f7f7f7"
            ],
            [
             0.6,
             "#e6f5d0"
            ],
            [
             0.7,
             "#b8e186"
            ],
            [
             0.8,
             "#7fbc41"
            ],
            [
             0.9,
             "#4d9221"
            ],
            [
             1,
             "#276419"
            ]
           ],
           "sequential": [
            [
             0,
             "#0d0887"
            ],
            [
             0.1111111111111111,
             "#46039f"
            ],
            [
             0.2222222222222222,
             "#7201a8"
            ],
            [
             0.3333333333333333,
             "#9c179e"
            ],
            [
             0.4444444444444444,
             "#bd3786"
            ],
            [
             0.5555555555555556,
             "#d8576b"
            ],
            [
             0.6666666666666666,
             "#ed7953"
            ],
            [
             0.7777777777777778,
             "#fb9f3a"
            ],
            [
             0.8888888888888888,
             "#fdca26"
            ],
            [
             1,
             "#f0f921"
            ]
           ],
           "sequentialminus": [
            [
             0,
             "#0d0887"
            ],
            [
             0.1111111111111111,
             "#46039f"
            ],
            [
             0.2222222222222222,
             "#7201a8"
            ],
            [
             0.3333333333333333,
             "#9c179e"
            ],
            [
             0.4444444444444444,
             "#bd3786"
            ],
            [
             0.5555555555555556,
             "#d8576b"
            ],
            [
             0.6666666666666666,
             "#ed7953"
            ],
            [
             0.7777777777777778,
             "#fb9f3a"
            ],
            [
             0.8888888888888888,
             "#fdca26"
            ],
            [
             1,
             "#f0f921"
            ]
           ]
          },
          "colorway": [
           "#636efa",
           "#EF553B",
           "#00cc96",
           "#ab63fa",
           "#FFA15A",
           "#19d3f3",
           "#FF6692",
           "#B6E880",
           "#FF97FF",
           "#FECB52"
          ],
          "font": {
           "color": "#2a3f5f"
          },
          "geo": {
           "bgcolor": "white",
           "lakecolor": "white",
           "landcolor": "#E5ECF6",
           "showlakes": true,
           "showland": true,
           "subunitcolor": "white"
          },
          "hoverlabel": {
           "align": "left"
          },
          "hovermode": "closest",
          "mapbox": {
           "style": "light"
          },
          "paper_bgcolor": "white",
          "plot_bgcolor": "#E5ECF6",
          "polar": {
           "angularaxis": {
            "gridcolor": "white",
            "linecolor": "white",
            "ticks": ""
           },
           "bgcolor": "#E5ECF6",
           "radialaxis": {
            "gridcolor": "white",
            "linecolor": "white",
            "ticks": ""
           }
          },
          "scene": {
           "xaxis": {
            "backgroundcolor": "#E5ECF6",
            "gridcolor": "white",
            "gridwidth": 2,
            "linecolor": "white",
            "showbackground": true,
            "ticks": "",
            "zerolinecolor": "white"
           },
           "yaxis": {
            "backgroundcolor": "#E5ECF6",
            "gridcolor": "white",
            "gridwidth": 2,
            "linecolor": "white",
            "showbackground": true,
            "ticks": "",
            "zerolinecolor": "white"
           },
           "zaxis": {
            "backgroundcolor": "#E5ECF6",
            "gridcolor": "white",
            "gridwidth": 2,
            "linecolor": "white",
            "showbackground": true,
            "ticks": "",
            "zerolinecolor": "white"
           }
          },
          "shapedefaults": {
           "line": {
            "color": "#2a3f5f"
           }
          },
          "ternary": {
           "aaxis": {
            "gridcolor": "white",
            "linecolor": "white",
            "ticks": ""
           },
           "baxis": {
            "gridcolor": "white",
            "linecolor": "white",
            "ticks": ""
           },
           "bgcolor": "#E5ECF6",
           "caxis": {
            "gridcolor": "white",
            "linecolor": "white",
            "ticks": ""
           }
          },
          "title": {
           "x": 0.05
          },
          "xaxis": {
           "automargin": true,
           "gridcolor": "white",
           "linecolor": "white",
           "ticks": "",
           "title": {
            "standoff": 15
           },
           "zerolinecolor": "white",
           "zerolinewidth": 2
          },
          "yaxis": {
           "automargin": true,
           "gridcolor": "white",
           "linecolor": "white",
           "ticks": "",
           "title": {
            "standoff": 15
           },
           "zerolinecolor": "white",
           "zerolinewidth": 2
          }
         }
        }
       }
      }
     },
     "metadata": {},
     "output_type": "display_data"
    }
   ],
   "source": [
    "obs = weather_df.groupby('station_name').first().reset_index()\n",
    "px.scatter_mapbox(obs, lat = 'latitude', lon = 'longitude', hover_name='station_name', mapbox_style='carto-positron')"
   ]
  },
  {
   "cell_type": "markdown",
   "metadata": {},
   "source": [
    "# Adding Features"
   ]
  },
  {
   "cell_type": "code",
   "execution_count": 28,
   "metadata": {},
   "outputs": [],
   "source": [
    "from transformation import FeaturePipe\n",
    "import transformation.features as FE\n",
    "\n",
    "yb_flow_set_index = yb_flow.set_index(['name', 'time'])\n",
    "yb_info_set_index = yb_info.set_index('name')\n"
   ]
  },
  {
   "cell_type": "code",
   "execution_count": 29,
   "metadata": {},
   "outputs": [
    {
     "name": "stdout",
     "output_type": "stream",
     "text": [
      "Station Info with Geo Info Added:\n",
      "0\tXYCoord\n",
      "1\tConvenientStoreFeature[distance = 500]\n",
      "2\tVillageFeature\n",
      "3\tInAlley\n",
      "4\tBusAggregateFeature[distance = 400]\n",
      "5\tTouristSpotFeature[distance = 400]\n",
      "6\tBikeRouteFeaure[distance = 1000]\n",
      "7\tHighSchoolFeature[distance = 400]\n",
      "8\tMRTIndex[distance = 200]\n",
      "9\tWeatherIndex\n",
      "Total columns:  27\n"
     ]
    }
   ],
   "source": [
    "\n",
    "fp = FeaturePipe([\n",
    "    FE.XYCoord(),\n",
    "    FE.ConvenientStoreFeature(conv_store, 500),\n",
    "    FE.VillageFeature(demographic, li_coord),\n",
    "    FE.InAlley(),\n",
    "    FE.BusAggregateFeature(bus, 400),\n",
    "    FE.TouristSpotFeature(tourist_spot, 400),\n",
    "    FE.BikeRouteFeaure(bike_route, 1000),\n",
    "    FE.HighSchoolFeature(highschool, 400),\n",
    "    FE.MRTIndex(MRT, 200),\n",
    "    FE.WeatherIndex(weather_df)\n",
    "])\n",
    "\n",
    "print(\"Station Info with Geo Info Added:\")\n",
    "df_geo = fp.build(yb_info)      # ! can't use name as index, or else concat will fail due to index mismatch\n",
    "fp.show_features()"
   ]
  },
  {
   "cell_type": "code",
   "execution_count": 30,
   "metadata": {},
   "outputs": [
    {
     "data": {
      "text/html": [
       "<div>\n",
       "<style scoped>\n",
       "    .dataframe tbody tr th:only-of-type {\n",
       "        vertical-align: middle;\n",
       "    }\n",
       "\n",
       "    .dataframe tbody tr th {\n",
       "        vertical-align: top;\n",
       "    }\n",
       "\n",
       "    .dataframe thead th {\n",
       "        text-align: right;\n",
       "    }\n",
       "</style>\n",
       "<table border=\"1\" class=\"dataframe\">\n",
       "  <thead>\n",
       "    <tr style=\"text-align: right;\">\n",
       "      <th></th>\n",
       "      <th>name</th>\n",
       "      <th>total</th>\n",
       "      <th>lat</th>\n",
       "      <th>lng</th>\n",
       "      <th>address</th>\n",
       "      <th>x</th>\n",
       "      <th>y</th>\n",
       "      <th>conv_count</th>\n",
       "      <th>總計</th>\n",
       "      <th>age_0_15</th>\n",
       "      <th>...</th>\n",
       "      <th>中位數</th>\n",
       "      <th>第一分位數</th>\n",
       "      <th>第三分位數</th>\n",
       "      <th>in_alley</th>\n",
       "      <th>bus_arround</th>\n",
       "      <th>count_tourist_spot</th>\n",
       "      <th>around_riverside</th>\n",
       "      <th>around_highschool</th>\n",
       "      <th>MRT_name</th>\n",
       "      <th>weather_station</th>\n",
       "    </tr>\n",
       "  </thead>\n",
       "  <tbody>\n",
       "    <tr>\n",
       "      <th>0</th>\n",
       "      <td>捷運科技大樓站</td>\n",
       "      <td>28</td>\n",
       "      <td>25.02605</td>\n",
       "      <td>121.54360</td>\n",
       "      <td>復興南路二段235號前</td>\n",
       "      <td>304859.938784</td>\n",
       "      <td>2.768773e+06</td>\n",
       "      <td>9</td>\n",
       "      <td>5289.763742</td>\n",
       "      <td>13.824678</td>\n",
       "      <td>...</td>\n",
       "      <td>613.484660</td>\n",
       "      <td>259.013040</td>\n",
       "      <td>1351.154626</td>\n",
       "      <td>False</td>\n",
       "      <td>57</td>\n",
       "      <td>0</td>\n",
       "      <td>False</td>\n",
       "      <td>True</td>\n",
       "      <td>科技大樓</td>\n",
       "      <td>信義</td>\n",
       "    </tr>\n",
       "    <tr>\n",
       "      <th>1</th>\n",
       "      <td>復興南路二段273號前</td>\n",
       "      <td>21</td>\n",
       "      <td>25.02565</td>\n",
       "      <td>121.54357</td>\n",
       "      <td>復興南路二段273號西側</td>\n",
       "      <td>304857.088954</td>\n",
       "      <td>2.768729e+06</td>\n",
       "      <td>11</td>\n",
       "      <td>5298.603467</td>\n",
       "      <td>13.858581</td>\n",
       "      <td>...</td>\n",
       "      <td>613.339145</td>\n",
       "      <td>258.972667</td>\n",
       "      <td>1350.220552</td>\n",
       "      <td>False</td>\n",
       "      <td>55</td>\n",
       "      <td>0</td>\n",
       "      <td>False</td>\n",
       "      <td>True</td>\n",
       "      <td>科技大樓</td>\n",
       "      <td>信義</td>\n",
       "    </tr>\n",
       "    <tr>\n",
       "      <th>2</th>\n",
       "      <td>國北教大實小東側門</td>\n",
       "      <td>16</td>\n",
       "      <td>25.02429</td>\n",
       "      <td>121.54124</td>\n",
       "      <td>和平東路二段96巷7號</td>\n",
       "      <td>304622.542775</td>\n",
       "      <td>2.768577e+06</td>\n",
       "      <td>9</td>\n",
       "      <td>5484.350616</td>\n",
       "      <td>14.324470</td>\n",
       "      <td>...</td>\n",
       "      <td>620.931923</td>\n",
       "      <td>261.313565</td>\n",
       "      <td>1364.446159</td>\n",
       "      <td>True</td>\n",
       "      <td>70</td>\n",
       "      <td>0</td>\n",
       "      <td>False</td>\n",
       "      <td>False</td>\n",
       "      <td>None</td>\n",
       "      <td>信義</td>\n",
       "    </tr>\n",
       "    <tr>\n",
       "      <th>3</th>\n",
       "      <td>和平公園東側</td>\n",
       "      <td>11</td>\n",
       "      <td>25.02351</td>\n",
       "      <td>121.54282</td>\n",
       "      <td>和平東路二段118巷33號</td>\n",
       "      <td>304782.347456</td>\n",
       "      <td>2.768491e+06</td>\n",
       "      <td>7</td>\n",
       "      <td>5398.918114</td>\n",
       "      <td>14.160731</td>\n",
       "      <td>...</td>\n",
       "      <td>616.023285</td>\n",
       "      <td>259.867428</td>\n",
       "      <td>1352.210162</td>\n",
       "      <td>True</td>\n",
       "      <td>62</td>\n",
       "      <td>1</td>\n",
       "      <td>False</td>\n",
       "      <td>False</td>\n",
       "      <td>None</td>\n",
       "      <td>信義</td>\n",
       "    </tr>\n",
       "    <tr>\n",
       "      <th>4</th>\n",
       "      <td>辛亥復興路口西北側</td>\n",
       "      <td>16</td>\n",
       "      <td>25.02153</td>\n",
       "      <td>121.54299</td>\n",
       "      <td>復興南路二段368號</td>\n",
       "      <td>304800.383642</td>\n",
       "      <td>2.768272e+06</td>\n",
       "      <td>5</td>\n",
       "      <td>5323.235098</td>\n",
       "      <td>14.008011</td>\n",
       "      <td>...</td>\n",
       "      <td>610.184094</td>\n",
       "      <td>258.212969</td>\n",
       "      <td>1337.336069</td>\n",
       "      <td>False</td>\n",
       "      <td>26</td>\n",
       "      <td>1</td>\n",
       "      <td>False</td>\n",
       "      <td>False</td>\n",
       "      <td>None</td>\n",
       "      <td>信義</td>\n",
       "    </tr>\n",
       "    <tr>\n",
       "      <th>...</th>\n",
       "      <td>...</td>\n",
       "      <td>...</td>\n",
       "      <td>...</td>\n",
       "      <td>...</td>\n",
       "      <td>...</td>\n",
       "      <td>...</td>\n",
       "      <td>...</td>\n",
       "      <td>...</td>\n",
       "      <td>...</td>\n",
       "      <td>...</td>\n",
       "      <td>...</td>\n",
       "      <td>...</td>\n",
       "      <td>...</td>\n",
       "      <td>...</td>\n",
       "      <td>...</td>\n",
       "      <td>...</td>\n",
       "      <td>...</td>\n",
       "      <td>...</td>\n",
       "      <td>...</td>\n",
       "      <td>...</td>\n",
       "      <td>...</td>\n",
       "    </tr>\n",
       "    <tr>\n",
       "      <th>1306</th>\n",
       "      <td>臺大獸醫館南側</td>\n",
       "      <td>24</td>\n",
       "      <td>25.01791</td>\n",
       "      <td>121.54242</td>\n",
       "      <td>臺大獸醫系館南側</td>\n",
       "      <td>304744.461695</td>\n",
       "      <td>2.767871e+06</td>\n",
       "      <td>3</td>\n",
       "      <td>5264.655805</td>\n",
       "      <td>13.658091</td>\n",
       "      <td>...</td>\n",
       "      <td>599.359170</td>\n",
       "      <td>255.475791</td>\n",
       "      <td>1309.047082</td>\n",
       "      <td>False</td>\n",
       "      <td>38</td>\n",
       "      <td>2</td>\n",
       "      <td>False</td>\n",
       "      <td>False</td>\n",
       "      <td>None</td>\n",
       "      <td>信義</td>\n",
       "    </tr>\n",
       "    <tr>\n",
       "      <th>1307</th>\n",
       "      <td>臺大新體育館東南側</td>\n",
       "      <td>40</td>\n",
       "      <td>25.02112</td>\n",
       "      <td>121.53591</td>\n",
       "      <td>臺大體育館東側</td>\n",
       "      <td>304086.012244</td>\n",
       "      <td>2.768224e+06</td>\n",
       "      <td>2</td>\n",
       "      <td>5339.805774</td>\n",
       "      <td>13.987413</td>\n",
       "      <td>...</td>\n",
       "      <td>610.972571</td>\n",
       "      <td>258.291626</td>\n",
       "      <td>1337.603485</td>\n",
       "      <td>False</td>\n",
       "      <td>26</td>\n",
       "      <td>2</td>\n",
       "      <td>False</td>\n",
       "      <td>False</td>\n",
       "      <td>None</td>\n",
       "      <td>臺北</td>\n",
       "    </tr>\n",
       "    <tr>\n",
       "      <th>1308</th>\n",
       "      <td>臺大明達館北側(員工宿舍)</td>\n",
       "      <td>18</td>\n",
       "      <td>25.01816</td>\n",
       "      <td>121.54469</td>\n",
       "      <td>明達館北側前空地</td>\n",
       "      <td>304973.457593</td>\n",
       "      <td>2.767900e+06</td>\n",
       "      <td>2</td>\n",
       "      <td>5259.413040</td>\n",
       "      <td>13.589284</td>\n",
       "      <td>...</td>\n",
       "      <td>598.060255</td>\n",
       "      <td>255.019815</td>\n",
       "      <td>1306.648207</td>\n",
       "      <td>False</td>\n",
       "      <td>58</td>\n",
       "      <td>1</td>\n",
       "      <td>False</td>\n",
       "      <td>False</td>\n",
       "      <td>None</td>\n",
       "      <td>信義</td>\n",
       "    </tr>\n",
       "    <tr>\n",
       "      <th>1309</th>\n",
       "      <td>辛亥路五段73巷口</td>\n",
       "      <td>23</td>\n",
       "      <td>24.99818</td>\n",
       "      <td>121.55312</td>\n",
       "      <td>已移除。手動增加資訊</td>\n",
       "      <td>305833.314032</td>\n",
       "      <td>2.765690e+06</td>\n",
       "      <td>7</td>\n",
       "      <td>5488.574132</td>\n",
       "      <td>12.967324</td>\n",
       "      <td>...</td>\n",
       "      <td>577.983221</td>\n",
       "      <td>249.638505</td>\n",
       "      <td>1248.837684</td>\n",
       "      <td>False</td>\n",
       "      <td>27</td>\n",
       "      <td>2</td>\n",
       "      <td>False</td>\n",
       "      <td>False</td>\n",
       "      <td>None</td>\n",
       "      <td>文山</td>\n",
       "    </tr>\n",
       "    <tr>\n",
       "      <th>1310</th>\n",
       "      <td>機場捷運台北車站(6號出口)</td>\n",
       "      <td>23</td>\n",
       "      <td>25.04969</td>\n",
       "      <td>121.51201</td>\n",
       "      <td>已移除。手動增加資訊</td>\n",
       "      <td>301661.926140</td>\n",
       "      <td>2.771379e+06</td>\n",
       "      <td>11</td>\n",
       "      <td>5039.967131</td>\n",
       "      <td>13.087871</td>\n",
       "      <td>...</td>\n",
       "      <td>559.933759</td>\n",
       "      <td>241.794783</td>\n",
       "      <td>1209.740424</td>\n",
       "      <td>False</td>\n",
       "      <td>62</td>\n",
       "      <td>9</td>\n",
       "      <td>True</td>\n",
       "      <td>False</td>\n",
       "      <td>北門</td>\n",
       "      <td>臺北</td>\n",
       "    </tr>\n",
       "  </tbody>\n",
       "</table>\n",
       "<p>1311 rows × 27 columns</p>\n",
       "</div>"
      ],
      "text/plain": [
       "                name  total       lat        lng        address  \\\n",
       "0            捷運科技大樓站     28  25.02605  121.54360    復興南路二段235號前   \n",
       "1        復興南路二段273號前     21  25.02565  121.54357   復興南路二段273號西側   \n",
       "2          國北教大實小東側門     16  25.02429  121.54124    和平東路二段96巷7號   \n",
       "3             和平公園東側     11  25.02351  121.54282  和平東路二段118巷33號   \n",
       "4          辛亥復興路口西北側     16  25.02153  121.54299     復興南路二段368號   \n",
       "...              ...    ...       ...        ...            ...   \n",
       "1306         臺大獸醫館南側     24  25.01791  121.54242       臺大獸醫系館南側   \n",
       "1307       臺大新體育館東南側     40  25.02112  121.53591        臺大體育館東側   \n",
       "1308   臺大明達館北側(員工宿舍)     18  25.01816  121.54469       明達館北側前空地   \n",
       "1309       辛亥路五段73巷口     23  24.99818  121.55312     已移除。手動增加資訊   \n",
       "1310  機場捷運台北車站(6號出口)     23  25.04969  121.51201     已移除。手動增加資訊   \n",
       "\n",
       "                  x             y  conv_count           總計   age_0_15  ...  \\\n",
       "0     304859.938784  2.768773e+06           9  5289.763742  13.824678  ...   \n",
       "1     304857.088954  2.768729e+06          11  5298.603467  13.858581  ...   \n",
       "2     304622.542775  2.768577e+06           9  5484.350616  14.324470  ...   \n",
       "3     304782.347456  2.768491e+06           7  5398.918114  14.160731  ...   \n",
       "4     304800.383642  2.768272e+06           5  5323.235098  14.008011  ...   \n",
       "...             ...           ...         ...          ...        ...  ...   \n",
       "1306  304744.461695  2.767871e+06           3  5264.655805  13.658091  ...   \n",
       "1307  304086.012244  2.768224e+06           2  5339.805774  13.987413  ...   \n",
       "1308  304973.457593  2.767900e+06           2  5259.413040  13.589284  ...   \n",
       "1309  305833.314032  2.765690e+06           7  5488.574132  12.967324  ...   \n",
       "1310  301661.926140  2.771379e+06          11  5039.967131  13.087871  ...   \n",
       "\n",
       "             中位數       第一分位數        第三分位數  in_alley  bus_arround  \\\n",
       "0     613.484660  259.013040  1351.154626     False           57   \n",
       "1     613.339145  258.972667  1350.220552     False           55   \n",
       "2     620.931923  261.313565  1364.446159      True           70   \n",
       "3     616.023285  259.867428  1352.210162      True           62   \n",
       "4     610.184094  258.212969  1337.336069     False           26   \n",
       "...          ...         ...          ...       ...          ...   \n",
       "1306  599.359170  255.475791  1309.047082     False           38   \n",
       "1307  610.972571  258.291626  1337.603485     False           26   \n",
       "1308  598.060255  255.019815  1306.648207     False           58   \n",
       "1309  577.983221  249.638505  1248.837684     False           27   \n",
       "1310  559.933759  241.794783  1209.740424     False           62   \n",
       "\n",
       "      count_tourist_spot  around_riverside  around_highschool  MRT_name  \\\n",
       "0                      0             False               True      科技大樓   \n",
       "1                      0             False               True      科技大樓   \n",
       "2                      0             False              False      None   \n",
       "3                      1             False              False      None   \n",
       "4                      1             False              False      None   \n",
       "...                  ...               ...                ...       ...   \n",
       "1306                   2             False              False      None   \n",
       "1307                   2             False              False      None   \n",
       "1308                   1             False              False      None   \n",
       "1309                   2             False              False      None   \n",
       "1310                   9              True              False        北門   \n",
       "\n",
       "      weather_station  \n",
       "0                  信義  \n",
       "1                  信義  \n",
       "2                  信義  \n",
       "3                  信義  \n",
       "4                  信義  \n",
       "...               ...  \n",
       "1306               信義  \n",
       "1307               臺北  \n",
       "1308               信義  \n",
       "1309               文山  \n",
       "1310               臺北  \n",
       "\n",
       "[1311 rows x 27 columns]"
      ]
     },
     "execution_count": 30,
     "metadata": {},
     "output_type": "execute_result"
    }
   ],
   "source": [
    "df_geo"
   ]
  },
  {
   "cell_type": "code",
   "execution_count": 94,
   "metadata": {},
   "outputs": [],
   "source": [
    "yb_flow_add_geoinfo = yb_flow_set_index.join(df_geo.set_index('name')).reset_index()"
   ]
  },
  {
   "cell_type": "markdown",
   "metadata": {},
   "source": [
    "## With space-time"
   ]
  },
  {
   "cell_type": "code",
   "execution_count": 95,
   "metadata": {},
   "outputs": [
    {
     "data": {
      "text/html": [
       "<div>\n",
       "<style scoped>\n",
       "    .dataframe tbody tr th:only-of-type {\n",
       "        vertical-align: middle;\n",
       "    }\n",
       "\n",
       "    .dataframe tbody tr th {\n",
       "        vertical-align: top;\n",
       "    }\n",
       "\n",
       "    .dataframe thead th {\n",
       "        text-align: right;\n",
       "    }\n",
       "</style>\n",
       "<table border=\"1\" class=\"dataframe\">\n",
       "  <thead>\n",
       "    <tr style=\"text-align: right;\">\n",
       "      <th></th>\n",
       "      <th>name</th>\n",
       "      <th>time</th>\n",
       "      <th>count_out</th>\n",
       "      <th>count_in</th>\n",
       "      <th>neighbor_out</th>\n",
       "      <th>neighbor_in</th>\n",
       "      <th>total</th>\n",
       "      <th>lat</th>\n",
       "      <th>lng</th>\n",
       "      <th>address</th>\n",
       "      <th>...</th>\n",
       "      <th>MRT_inflow</th>\n",
       "      <th>MRT_outflow</th>\n",
       "      <th>temperature</th>\n",
       "      <th>relative_humidity</th>\n",
       "      <th>wind_speed</th>\n",
       "      <th>precipitation</th>\n",
       "      <th>hour</th>\n",
       "      <th>month</th>\n",
       "      <th>weekday</th>\n",
       "      <th>during_covid</th>\n",
       "    </tr>\n",
       "  </thead>\n",
       "  <tbody>\n",
       "    <tr>\n",
       "      <th>0</th>\n",
       "      <td>捷運科技大樓站</td>\n",
       "      <td>2020-04-01 00:00:00</td>\n",
       "      <td>1</td>\n",
       "      <td>1</td>\n",
       "      <td>2</td>\n",
       "      <td>3</td>\n",
       "      <td>28</td>\n",
       "      <td>25.02605</td>\n",
       "      <td>121.54360</td>\n",
       "      <td>復興南路二段235號前</td>\n",
       "      <td>...</td>\n",
       "      <td>4.350112</td>\n",
       "      <td>4.261691</td>\n",
       "      <td>&lt;NA&gt;</td>\n",
       "      <td>&lt;NA&gt;</td>\n",
       "      <td>&lt;NA&gt;</td>\n",
       "      <td>&lt;NA&gt;</td>\n",
       "      <td>0</td>\n",
       "      <td>4</td>\n",
       "      <td>2</td>\n",
       "      <td>False</td>\n",
       "    </tr>\n",
       "    <tr>\n",
       "      <th>1</th>\n",
       "      <td>捷運科技大樓站</td>\n",
       "      <td>2020-04-01 01:00:00</td>\n",
       "      <td>0</td>\n",
       "      <td>0</td>\n",
       "      <td>0</td>\n",
       "      <td>1</td>\n",
       "      <td>28</td>\n",
       "      <td>25.02605</td>\n",
       "      <td>121.54360</td>\n",
       "      <td>復興南路二段235號前</td>\n",
       "      <td>...</td>\n",
       "      <td>2.634477</td>\n",
       "      <td>2.716838</td>\n",
       "      <td>20.0</td>\n",
       "      <td>97</td>\n",
       "      <td>1.1</td>\n",
       "      <td>1.0</td>\n",
       "      <td>1</td>\n",
       "      <td>4</td>\n",
       "      <td>2</td>\n",
       "      <td>False</td>\n",
       "    </tr>\n",
       "    <tr>\n",
       "      <th>2</th>\n",
       "      <td>捷運科技大樓站</td>\n",
       "      <td>2020-04-01 02:00:00</td>\n",
       "      <td>0</td>\n",
       "      <td>0</td>\n",
       "      <td>0</td>\n",
       "      <td>0</td>\n",
       "      <td>28</td>\n",
       "      <td>25.02605</td>\n",
       "      <td>121.54360</td>\n",
       "      <td>復興南路二段235號前</td>\n",
       "      <td>...</td>\n",
       "      <td>2.245513</td>\n",
       "      <td>2.426511</td>\n",
       "      <td>19.3</td>\n",
       "      <td>96</td>\n",
       "      <td>1.1</td>\n",
       "      <td>0.0</td>\n",
       "      <td>2</td>\n",
       "      <td>4</td>\n",
       "      <td>2</td>\n",
       "      <td>False</td>\n",
       "    </tr>\n",
       "    <tr>\n",
       "      <th>3</th>\n",
       "      <td>捷運科技大樓站</td>\n",
       "      <td>2020-04-01 03:00:00</td>\n",
       "      <td>0</td>\n",
       "      <td>0</td>\n",
       "      <td>1</td>\n",
       "      <td>0</td>\n",
       "      <td>28</td>\n",
       "      <td>25.02605</td>\n",
       "      <td>121.54360</td>\n",
       "      <td>復興南路二段235號前</td>\n",
       "      <td>...</td>\n",
       "      <td>2.120574</td>\n",
       "      <td>2.176091</td>\n",
       "      <td>18.7</td>\n",
       "      <td>96</td>\n",
       "      <td>0.3</td>\n",
       "      <td>0.5</td>\n",
       "      <td>3</td>\n",
       "      <td>4</td>\n",
       "      <td>2</td>\n",
       "      <td>False</td>\n",
       "    </tr>\n",
       "    <tr>\n",
       "      <th>4</th>\n",
       "      <td>捷運科技大樓站</td>\n",
       "      <td>2020-04-01 04:00:00</td>\n",
       "      <td>0</td>\n",
       "      <td>0</td>\n",
       "      <td>0</td>\n",
       "      <td>0</td>\n",
       "      <td>28</td>\n",
       "      <td>25.02605</td>\n",
       "      <td>121.54360</td>\n",
       "      <td>復興南路二段235號前</td>\n",
       "      <td>...</td>\n",
       "      <td>1.875061</td>\n",
       "      <td>2.096910</td>\n",
       "      <td>18.3</td>\n",
       "      <td>96</td>\n",
       "      <td>0.9</td>\n",
       "      <td>0.5</td>\n",
       "      <td>4</td>\n",
       "      <td>4</td>\n",
       "      <td>2</td>\n",
       "      <td>False</td>\n",
       "    </tr>\n",
       "    <tr>\n",
       "      <th>...</th>\n",
       "      <td>...</td>\n",
       "      <td>...</td>\n",
       "      <td>...</td>\n",
       "      <td>...</td>\n",
       "      <td>...</td>\n",
       "      <td>...</td>\n",
       "      <td>...</td>\n",
       "      <td>...</td>\n",
       "      <td>...</td>\n",
       "      <td>...</td>\n",
       "      <td>...</td>\n",
       "      <td>...</td>\n",
       "      <td>...</td>\n",
       "      <td>...</td>\n",
       "      <td>...</td>\n",
       "      <td>...</td>\n",
       "      <td>...</td>\n",
       "      <td>...</td>\n",
       "      <td>...</td>\n",
       "      <td>...</td>\n",
       "      <td>...</td>\n",
       "    </tr>\n",
       "    <tr>\n",
       "      <th>33426562</th>\n",
       "      <td>機場捷運台北車站(6號出口)</td>\n",
       "      <td>2023-02-28 19:00:00</td>\n",
       "      <td>4</td>\n",
       "      <td>3</td>\n",
       "      <td>38</td>\n",
       "      <td>34</td>\n",
       "      <td>23</td>\n",
       "      <td>25.04969</td>\n",
       "      <td>121.51201</td>\n",
       "      <td>已移除。手動增加資訊</td>\n",
       "      <td>...</td>\n",
       "      <td>5.484098</td>\n",
       "      <td>5.308946</td>\n",
       "      <td>19.8</td>\n",
       "      <td>76</td>\n",
       "      <td>1.8</td>\n",
       "      <td>0.0</td>\n",
       "      <td>19</td>\n",
       "      <td>2</td>\n",
       "      <td>1</td>\n",
       "      <td>False</td>\n",
       "    </tr>\n",
       "    <tr>\n",
       "      <th>33426563</th>\n",
       "      <td>機場捷運台北車站(6號出口)</td>\n",
       "      <td>2023-02-28 20:00:00</td>\n",
       "      <td>1</td>\n",
       "      <td>1</td>\n",
       "      <td>33</td>\n",
       "      <td>29</td>\n",
       "      <td>23</td>\n",
       "      <td>25.04969</td>\n",
       "      <td>121.51201</td>\n",
       "      <td>已移除。手動增加資訊</td>\n",
       "      <td>...</td>\n",
       "      <td>5.224807</td>\n",
       "      <td>5.071595</td>\n",
       "      <td>19.1</td>\n",
       "      <td>81</td>\n",
       "      <td>1.6</td>\n",
       "      <td>0.0</td>\n",
       "      <td>20</td>\n",
       "      <td>2</td>\n",
       "      <td>1</td>\n",
       "      <td>False</td>\n",
       "    </tr>\n",
       "    <tr>\n",
       "      <th>33426564</th>\n",
       "      <td>機場捷運台北車站(6號出口)</td>\n",
       "      <td>2023-02-28 21:00:00</td>\n",
       "      <td>0</td>\n",
       "      <td>2</td>\n",
       "      <td>31</td>\n",
       "      <td>30</td>\n",
       "      <td>23</td>\n",
       "      <td>25.04969</td>\n",
       "      <td>121.51201</td>\n",
       "      <td>已移除。手動增加資訊</td>\n",
       "      <td>...</td>\n",
       "      <td>5.156446</td>\n",
       "      <td>5.025511</td>\n",
       "      <td>18.7</td>\n",
       "      <td>84</td>\n",
       "      <td>1.1</td>\n",
       "      <td>0.0</td>\n",
       "      <td>21</td>\n",
       "      <td>2</td>\n",
       "      <td>1</td>\n",
       "      <td>False</td>\n",
       "    </tr>\n",
       "    <tr>\n",
       "      <th>33426565</th>\n",
       "      <td>機場捷運台北車站(6號出口)</td>\n",
       "      <td>2023-02-28 22:00:00</td>\n",
       "      <td>1</td>\n",
       "      <td>3</td>\n",
       "      <td>32</td>\n",
       "      <td>21</td>\n",
       "      <td>23</td>\n",
       "      <td>25.04969</td>\n",
       "      <td>121.51201</td>\n",
       "      <td>已移除。手動增加資訊</td>\n",
       "      <td>...</td>\n",
       "      <td>5.003245</td>\n",
       "      <td>4.907954</td>\n",
       "      <td>18.4</td>\n",
       "      <td>85</td>\n",
       "      <td>1.3</td>\n",
       "      <td>0.0</td>\n",
       "      <td>22</td>\n",
       "      <td>2</td>\n",
       "      <td>1</td>\n",
       "      <td>False</td>\n",
       "    </tr>\n",
       "    <tr>\n",
       "      <th>33426566</th>\n",
       "      <td>機場捷運台北車站(6號出口)</td>\n",
       "      <td>2023-02-28 23:00:00</td>\n",
       "      <td>0</td>\n",
       "      <td>0</td>\n",
       "      <td>3</td>\n",
       "      <td>5</td>\n",
       "      <td>23</td>\n",
       "      <td>25.04969</td>\n",
       "      <td>121.51201</td>\n",
       "      <td>已移除。手動增加資訊</td>\n",
       "      <td>...</td>\n",
       "      <td>4.688438</td>\n",
       "      <td>4.481758</td>\n",
       "      <td>18.0</td>\n",
       "      <td>85</td>\n",
       "      <td>1.2</td>\n",
       "      <td>0.0</td>\n",
       "      <td>23</td>\n",
       "      <td>2</td>\n",
       "      <td>1</td>\n",
       "      <td>False</td>\n",
       "    </tr>\n",
       "  </tbody>\n",
       "</table>\n",
       "<p>33426567 rows × 39 columns</p>\n",
       "</div>"
      ],
      "text/plain": [
       "                    name                 time  count_out  count_in  \\\n",
       "0                捷運科技大樓站  2020-04-01 00:00:00          1         1   \n",
       "1                捷運科技大樓站  2020-04-01 01:00:00          0         0   \n",
       "2                捷運科技大樓站  2020-04-01 02:00:00          0         0   \n",
       "3                捷運科技大樓站  2020-04-01 03:00:00          0         0   \n",
       "4                捷運科技大樓站  2020-04-01 04:00:00          0         0   \n",
       "...                  ...                  ...        ...       ...   \n",
       "33426562  機場捷運台北車站(6號出口)  2023-02-28 19:00:00          4         3   \n",
       "33426563  機場捷運台北車站(6號出口)  2023-02-28 20:00:00          1         1   \n",
       "33426564  機場捷運台北車站(6號出口)  2023-02-28 21:00:00          0         2   \n",
       "33426565  機場捷運台北車站(6號出口)  2023-02-28 22:00:00          1         3   \n",
       "33426566  機場捷運台北車站(6號出口)  2023-02-28 23:00:00          0         0   \n",
       "\n",
       "          neighbor_out  neighbor_in  total       lat        lng      address  \\\n",
       "0                    2            3     28  25.02605  121.54360  復興南路二段235號前   \n",
       "1                    0            1     28  25.02605  121.54360  復興南路二段235號前   \n",
       "2                    0            0     28  25.02605  121.54360  復興南路二段235號前   \n",
       "3                    1            0     28  25.02605  121.54360  復興南路二段235號前   \n",
       "4                    0            0     28  25.02605  121.54360  復興南路二段235號前   \n",
       "...                ...          ...    ...       ...        ...          ...   \n",
       "33426562            38           34     23  25.04969  121.51201   已移除。手動增加資訊   \n",
       "33426563            33           29     23  25.04969  121.51201   已移除。手動增加資訊   \n",
       "33426564            31           30     23  25.04969  121.51201   已移除。手動增加資訊   \n",
       "33426565            32           21     23  25.04969  121.51201   已移除。手動增加資訊   \n",
       "33426566             3            5     23  25.04969  121.51201   已移除。手動增加資訊   \n",
       "\n",
       "          ...  MRT_inflow  MRT_outflow  temperature  relative_humidity  \\\n",
       "0         ...    4.350112     4.261691         <NA>               <NA>   \n",
       "1         ...    2.634477     2.716838         20.0                 97   \n",
       "2         ...    2.245513     2.426511         19.3                 96   \n",
       "3         ...    2.120574     2.176091         18.7                 96   \n",
       "4         ...    1.875061     2.096910         18.3                 96   \n",
       "...       ...         ...          ...          ...                ...   \n",
       "33426562  ...    5.484098     5.308946         19.8                 76   \n",
       "33426563  ...    5.224807     5.071595         19.1                 81   \n",
       "33426564  ...    5.156446     5.025511         18.7                 84   \n",
       "33426565  ...    5.003245     4.907954         18.4                 85   \n",
       "33426566  ...    4.688438     4.481758         18.0                 85   \n",
       "\n",
       "          wind_speed  precipitation  hour  month  weekday  during_covid  \n",
       "0               <NA>           <NA>     0      4        2         False  \n",
       "1                1.1            1.0     1      4        2         False  \n",
       "2                1.1            0.0     2      4        2         False  \n",
       "3                0.3            0.5     3      4        2         False  \n",
       "4                0.9            0.5     4      4        2         False  \n",
       "...              ...            ...   ...    ...      ...           ...  \n",
       "33426562         1.8            0.0    19      2        1         False  \n",
       "33426563         1.6            0.0    20      2        1         False  \n",
       "33426564         1.1            0.0    21      2        1         False  \n",
       "33426565         1.3            0.0    22      2        1         False  \n",
       "33426566         1.2            0.0    23      2        1         False  \n",
       "\n",
       "[33426567 rows x 39 columns]"
      ]
     },
     "execution_count": 95,
     "metadata": {},
     "output_type": "execute_result"
    }
   ],
   "source": [
    "\n",
    "fp_spacetime = FeaturePipe([\n",
    "    FE.MRTTimeFeature(MRT),\n",
    "    FE.WeatherTimeFeature(weather_df),\n",
    "    FE.FeatureTime(),\n",
    "    FE.Covid19Feature()\n",
    "])\n",
    "\n",
    "fp_spacetime.build(yb_flow_add_geoinfo)\n",
    "fp_spacetime.df"
   ]
  },
  {
   "cell_type": "code",
   "execution_count": 87,
   "metadata": {},
   "outputs": [
    {
     "name": "stdout",
     "output_type": "stream",
     "text": [
      "0\tMRTTimeFeature\n",
      "1\tWeatherTimeFeature\n",
      "2\tFeatureTime\n",
      "3\tCovid19Feature\n",
      "Total columns:  39\n"
     ]
    }
   ],
   "source": [
    "fp_spacetime.show_features()"
   ]
  },
  {
   "cell_type": "code",
   "execution_count": 97,
   "metadata": {},
   "outputs": [],
   "source": [
    "fp_spacetime.df.to_parquet(\"feature_added.pq\")"
   ]
  },
  {
   "cell_type": "code",
   "execution_count": null,
   "metadata": {},
   "outputs": [],
   "source": []
  }
 ],
 "metadata": {
  "kernelspec": {
   "display_name": "Python 3",
   "language": "python",
   "name": "python3"
  },
  "language_info": {
   "codemirror_mode": {
    "name": "ipython",
    "version": 3
   },
   "file_extension": ".py",
   "mimetype": "text/x-python",
   "name": "python",
   "nbconvert_exporter": "python",
   "pygments_lexer": "ipython3",
   "version": "3.11.1"
  },
  "orig_nbformat": 4
 },
 "nbformat": 4,
 "nbformat_minor": 2
}
